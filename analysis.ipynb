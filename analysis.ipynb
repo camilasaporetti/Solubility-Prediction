{
  "cells": [
    {
      "cell_type": "code",
      "source": [
        "from google.colab import drive\n",
        "drive.mount('/content/drive/')"
      ],
      "metadata": {
        "colab": {
          "base_uri": "https://localhost:8080/"
        },
        "id": "ttD8Uqc3uOLZ",
        "outputId": "4e52c3fe-1d14-45ab-fe3c-3770acc1f4ae"
      },
      "execution_count": null,
      "outputs": [
        {
          "output_type": "stream",
          "name": "stdout",
          "text": [
            "Mounted at /content/drive/\n"
          ]
        }
      ]
    },
    {
      "cell_type": "code",
      "source": [
        "cd 'drive/MyDrive/Artigo_Farmacos/'"
      ],
      "metadata": {
        "colab": {
          "base_uri": "https://localhost:8080/"
        },
        "id": "V2crWmP8uOtn",
        "outputId": "6b207cd2-6599-4021-e12a-9cfece32e23a"
      },
      "execution_count": null,
      "outputs": [
        {
          "output_type": "stream",
          "name": "stdout",
          "text": [
            "/content/drive/MyDrive/Artigo_Farmacos\n"
          ]
        }
      ]
    },
    {
      "cell_type": "code",
      "source": [
        "!pip install hydroeval"
      ],
      "metadata": {
        "colab": {
          "base_uri": "https://localhost:8080/"
        },
        "id": "y8qv_-yqvE6M",
        "outputId": "b6eb49dd-384c-4d1b-b867-7f80a9382fc8"
      },
      "execution_count": null,
      "outputs": [
        {
          "output_type": "stream",
          "name": "stdout",
          "text": [
            "Collecting hydroeval\n",
            "  Downloading hydroeval-0.1.0-py3-none-any.whl (22 kB)\n",
            "Requirement already satisfied: numpy in /usr/local/lib/python3.10/dist-packages (from hydroeval) (1.25.2)\n",
            "Installing collected packages: hydroeval\n",
            "Successfully installed hydroeval-0.1.0\n"
          ]
        }
      ]
    },
    {
      "cell_type": "code",
      "execution_count": null,
      "metadata": {
        "id": "YtRGtQqHtjMq"
      },
      "outputs": [],
      "source": [
        "# -*- coding: utf-8 -*-\n",
        "import numpy as np\n",
        "import matplotlib\n",
        "import pandas as pd\n",
        "import matplotlib.pyplot as pl\n",
        "import scipy as sp\n",
        "import glob\n",
        "import seaborn as sns\n",
        "import re\n",
        "import os\n",
        "import itertools\n",
        "from sklearn.metrics import  r2_score, mean_squared_error, mean_absolute_error\n",
        "from sklearn.model_selection import cross_val_score, KFold, cross_val_predict, train_test_split\n",
        "from sklearn.preprocessing import  LabelEncoder\n",
        "import hydroeval as he\n",
        "pd.options.display.float_format = '{:.4f}'.format\n",
        "\n",
        "\n",
        "def fmt(x):\n",
        "    if (type(x) == str or type(x) == tuple or type(x) == list):\n",
        "        return str(x)\n",
        "    else:\n",
        "      if (abs(x)>0.001 and abs(x)<1e4):\n",
        "        return '%1.3f' % x\n",
        "      else:\n",
        "        return '%1.4g' % x\n",
        "\n",
        "def fstat(x):\n",
        "  #m,s= '{:1.4g}'.format(np.mean(x)), '{:1.4g}'.format(np.std(x))\n",
        "  m,s, md= fmt(np.mean(x)), fmt(np.std(x)), fmt(np.median(x))\n",
        "  #text=str(m)+'$\\pm$'+str(s)\n",
        "  text=str(m)+' ('+str(s)+')'#+' ['+str(md)+']'\n",
        "  return text\n",
        "\n",
        "# http://www.jesshamrick.com/2016/04/13/reproducible-plots/\n",
        "def set_style():\n",
        "    # This sets reasonable defaults for size for\n",
        "    # a figure that will go in a paper\n",
        "    #sns.set_context(\"paper\")\n",
        "    #pl.style.use(['seaborn-white', 'seaborn-paper'])\n",
        "    #matplotlib.rc(\"font\", family=\"Times New Roman\")\n",
        "    #sns.set_palette(\"Greys\", 1, 0.99, )\n",
        "    sns.set_palette(\"Blues_d\", 1, 0.99, )\n",
        "    sns.set_context(\"paper\", font_scale=1.2,\n",
        "        rc={\"font.size\":12,\"axes.titlesize\":12,\"axes.labelsize\":12,\n",
        "            'xtick.labelsize':14,'ytick.labelsize':14,\n",
        "            'font.family':\"Times New Roman\", })\n",
        "    # Set the font to be serif, rather than sans\n",
        "    #sns.set(font='serif', font_scale=1.4,)\n",
        "\n",
        "    # Make the background white, and specify the\n",
        "    # specific font family\n",
        "    sns.set_style(style=\"white\", rc={\n",
        "        #\"font.family\": \"serif\",\n",
        "        #\"font.serif\": [\"Times\", \"Palatino\", \"serif\"]\n",
        "    })\n",
        "\n",
        "    #pl.rc('text', usetex=True)\n",
        "    #pl.rc('font', family='serif',  serif='Times')\n",
        "\n",
        "    #sns.set(style=\"ticks\", palette=\"mutedpd\", color_codes=True, font_scale=1.4,)\n",
        "\n",
        "def replace_names(s):\n",
        "    sv = [\n",
        "            ('gamma', '$\\gamma$'), ('epsilon','$\\\\varepsilon$'), ('C', '$C$'),\n",
        "            ('l1_ratio','$L_1$ ratio'), ('alpha','$\\\\alpha$'),\n",
        "            ('l2_penalty','$C_2$'),\n",
        "            ('thin_plate','T. Plate'),('cubic','Cubic'),\n",
        "            ('inverse','Inverse'),('quintic','Quintic'),('linear','Linear'),\n",
        "            ('penalty','$\\gamma$'),('max_degree','$q$'),\n",
        "            ('hidden_layer_sizes', 'HL'),\n",
        "            ('learning_rate_init', 'LR'),\n",
        "            ('rbf_width', '$\\gamma$'),\n",
        "            ('activation_func', '$G$'),\n",
        "            ('activation', '$\\\\varphi$'),\n",
        "            ('n_hidden', 'HL'),\n",
        "            ('sigmoid', 'Sigmoid'),\n",
        "            ('inv_multiquadric', 'Inv. Multiquadric'),\n",
        "            ('multiquadric', 'Multiquadric'),\n",
        "            ('hardlim', 'HardLim'),('softlim', 'SoftLim'),\n",
        "            ('tanh', 'Hyp. Tangent'),\n",
        "            ('gaussian', 'Gaussian'),\n",
        "            ('identity', 'Identity'),\n",
        "            ('swish', 'Swish'),\n",
        "            ('relu', 'ReLU'),\n",
        "            ('Kappa', '$\\kappa$'),\n",
        "            ('criterion','Criterion'),\n",
        "            ('learning_rate','LR'),\n",
        "            ('friedman_mse','MSE'),\n",
        "            ('reg_lambda','$\\lambda$'),\n",
        "            ('max_depth','Max. Depth'),\n",
        "            ('min_samples_leaf','Min. Samples Leaf'),\n",
        "            ('min_samples_split','Min. Samples Split'),\n",
        "            ('min_weight_fraction_leaf', 'Min. Weig. Fract. Leaf'),\n",
        "            ('n_estimators', 'No Estimators'),\n",
        "            ('presort', 'Presort'),\n",
        "            ('subsample', 'Subsample'),\n",
        "            ('n_neighbors','$K$'),\n",
        "            ('positive','Positive Weights'),\n",
        "            ('max_terms','Max. Terms'),\n",
        "            ('max_iter','Max. Iter.'),\n",
        "            ('min_child_weight','Min. Child Weight'),\n",
        "            ('colsample_bytree','Col. Sample'),\n",
        "            ('thin_plate', 'thin-plate'),\n",
        "            ('interaction_only','Interaction Only'),\n",
        "            ('k1','$k_0$'),\n",
        "            ('sigma', '$\\sigma$'), ('beta', '$\\\\beta$'),\n",
        "            ('U/u*','$U/u^*$'),\n",
        "            ('B','$B$'),('H','$H$'),('U','$U$'),('u*','$u^*$'),\n",
        "        ]\n",
        "    for s1,s2 in sv:\n",
        "        r=s.replace(str(s1), s2)\n",
        "        if(r!=s):\n",
        "            #print r\n",
        "            return r\n",
        "    return r\n"
      ]
    },
    {
      "cell_type": "code",
      "execution_count": null,
      "metadata": {
        "id": "YoiZDVnMv5lc"
      },
      "outputs": [],
      "source": [
        "set_style()\n",
        "\n",
        "\n",
        "basename='Farmacos'\n",
        "\n",
        "\n",
        "pkl_list  = []\n",
        "pkl_list += glob.glob('pkl_novo/*')\n",
        "pkl_list.sort()\n",
        "#\n",
        "\n",
        "# leitura dos dados\n",
        "#\n",
        "A=[]\n",
        "for pkl in pkl_list:\n",
        "    df = pd.read_pickle(pkl)\n",
        "    A.append(df)\n",
        "\n",
        "\n",
        "#\n",
        "A = pd.concat(A,axis=0)\n",
        "#\n",
        "\n",
        "\n",
        "\n",
        "C = []\n",
        "for k in range(len(A)):\n",
        "    df=A.iloc[k]\n",
        "\n",
        "    y_true = pd.DataFrame(df['Y_TRUE'], columns=['Class'])\n",
        "    run = df['RUN']\n",
        "\n",
        "    y_pred = pd.DataFrame(df['Y_PRED'], columns=['Class'])\n",
        "\n",
        "    run = df['RUN']\n",
        "    ds_name = df['DATASET']\n",
        "\n",
        "    var_names = y_true.columns\n",
        "\n",
        "    for v in var_names:\n",
        "        r2      = r2_score(y_true[v], y_pred[v])\n",
        "        mae     = mean_absolute_error(y_true[v], y_pred[v])\n",
        "        mse     = mean_squared_error(y_true[v], y_pred[v])\n",
        "        mape    = abs((y_true[v] - y_pred[v])/y_true[v]).mean()*100\n",
        "        rmse    = he.rmse(y_true.values, y_pred.values)[0]\n",
        "        C.append({'RUN':run, 'Output':v,\n",
        "                  'Dataset':ds_name,\n",
        "                  'MAPE':mape, 'R$^2$':r2, 'MSE':mse,\n",
        "                  'RMSE':rmse, 'MAE':mae,\n",
        "                  'Parameters':df['BEST_PARAMS'],\n",
        "                  'Estimator':df['MODEL'],'Y_PRED':y_true.values, 'Y_TRUE':y_true.values})\n",
        "\n",
        "\n",
        "C = pd.DataFrame(C)\n",
        "\n"
      ]
    },
    {
      "cell_type": "code",
      "execution_count": null,
      "metadata": {
        "id": "6TT-tpOcxZZl"
      },
      "outputs": [],
      "source": [
        "metrics = ['MAPE', 'R$^2$', 'MSE', 'RMSE','MAE']"
      ]
    },
    {
      "cell_type": "code",
      "execution_count": null,
      "metadata": {
        "id": "4tVI9i2jkXbH",
        "outputId": "7c6b3300-d892-4f94-9621-2a4b692617a4",
        "colab": {
          "base_uri": "https://localhost:8080/"
        }
      },
      "outputs": [
        {
          "output_type": "stream",
          "name": "stdout",
          "text": [
            "      RUN Output   Dataset   MAPE  R$^2$    MSE   RMSE    MAE  \\\n",
            "0       0  Class  farmacos 3.3615 0.8863 0.0004 0.0199 0.0148   \n",
            "1       0  Class  farmacos 3.3615 0.8863 0.0004 0.0199 0.0148   \n",
            "5       1  Class  farmacos 3.2892 0.9070 0.0004 0.0198 0.0143   \n",
            "9       2  Class  farmacos 3.4222 0.8955 0.0004 0.0195 0.0150   \n",
            "13      3  Class  farmacos 3.1843 0.8989 0.0004 0.0196 0.0141   \n",
            "...   ...    ...       ...    ...    ...    ...    ...    ...   \n",
            "7241    5  Class  farmacos    inf 0.9043 0.0004 0.0194 0.0143   \n",
            "7245    6  Class  farmacos 3.3302 0.8906 0.0004 0.0198 0.0146   \n",
            "7249    7  Class  farmacos 3.0551 0.9095 0.0003 0.0182 0.0135   \n",
            "7253    8  Class  farmacos 3.1992 0.8940 0.0004 0.0197 0.0141   \n",
            "7257    9  Class  farmacos 3.3620 0.8973 0.0004 0.0206 0.0147   \n",
            "\n",
            "                               Parameters Estimator  \\\n",
            "0     {'n_neurons': 200, 'ufunc': 'relu'}       ELM   \n",
            "1     {'n_neurons': 200, 'ufunc': 'relu'}       ELM   \n",
            "5     {'n_neurons': 200, 'ufunc': 'relu'}       ELM   \n",
            "9     {'n_neurons': 100, 'ufunc': 'relu'}       ELM   \n",
            "13    {'n_neurons': 200, 'ufunc': 'relu'}       ELM   \n",
            "...                                   ...       ...   \n",
            "7241  {'n_neurons': 200, 'ufunc': 'relu'}       ELM   \n",
            "7245  {'n_neurons': 200, 'ufunc': 'relu'}       ELM   \n",
            "7249  {'n_neurons': 200, 'ufunc': 'relu'}       ELM   \n",
            "7253  {'n_neurons': 200, 'ufunc': 'relu'}       ELM   \n",
            "7257  {'n_neurons': 200, 'ufunc': 'relu'}       ELM   \n",
            "\n",
            "                                                 Y_PRED  \\\n",
            "0     [[0.3720171347602913], [0.4314023102836709], [...   \n",
            "1     [[0.3720171347602913], [0.4314023102836709], [...   \n",
            "5     [[0.419142417446301], [0.6525284562763325], [0...   \n",
            "9     [[0.3720171347602913], [0.4636097478581545], [...   \n",
            "13    [[0.4314023102836709], [0.38252460893147], [0....   \n",
            "...                                                 ...   \n",
            "7241  [[0.4303255229104691], [0.4168504321225141], [...   \n",
            "7245  [[0.4461981664117406], [0.38252460893147], [0....   \n",
            "7249  [[0.4143027391218666], [0.5159312920510097], [...   \n",
            "7253  [[0.4143027391218666], [0.5159312920510097], [...   \n",
            "7257  [[0.3720171347602913], [0.463131175692287], [0...   \n",
            "\n",
            "                                                 Y_TRUE  \n",
            "0     [[0.3720171347602913], [0.4314023102836709], [...  \n",
            "1     [[0.3720171347602913], [0.4314023102836709], [...  \n",
            "5     [[0.419142417446301], [0.6525284562763325], [0...  \n",
            "9     [[0.3720171347602913], [0.4636097478581545], [...  \n",
            "13    [[0.4314023102836709], [0.38252460893147], [0....  \n",
            "...                                                 ...  \n",
            "7241  [[0.4303255229104691], [0.4168504321225141], [...  \n",
            "7245  [[0.4461981664117406], [0.38252460893147], [0....  \n",
            "7249  [[0.4143027391218666], [0.5159312920510097], [...  \n",
            "7253  [[0.4143027391218666], [0.5159312920510097], [...  \n",
            "7257  [[0.3720171347602913], [0.463131175692287], [0...  \n",
            "\n",
            "[1860 rows x 12 columns]\n",
            "      RUN Output   Dataset   MAPE  R$^2$    MSE   RMSE    MAE  \\\n",
            "4       0  Class  farmacos 3.5097 0.8478 0.0005 0.0230 0.0156   \n",
            "8       1  Class  farmacos 3.6266 0.8592 0.0006 0.0243 0.0161   \n",
            "12      2  Class  farmacos 3.4461 0.8666 0.0005 0.0221 0.0152   \n",
            "16      3  Class  farmacos 3.4310 0.8562 0.0005 0.0234 0.0155   \n",
            "20      4  Class  farmacos 3.5282 0.8352 0.0006 0.0245 0.0156   \n",
            "...   ...    ...       ...    ...    ...    ...    ...    ...   \n",
            "7240    4  Class  farmacos 3.5282 0.8352 0.0006 0.0245 0.0156   \n",
            "7244    5  Class  farmacos    inf 0.8246 0.0007 0.0262 0.0163   \n",
            "7248    6  Class  farmacos 3.5769 0.8386 0.0006 0.0240 0.0158   \n",
            "7252    7  Class  farmacos 3.3640 0.8642 0.0005 0.0222 0.0148   \n",
            "7256    8  Class  farmacos 3.4791 0.8642 0.0005 0.0223 0.0154   \n",
            "\n",
            "              Parameters Estimator  \\\n",
            "4     {'n_neighbors': 3}       KNN   \n",
            "8     {'n_neighbors': 3}       KNN   \n",
            "12    {'n_neighbors': 3}       KNN   \n",
            "16    {'n_neighbors': 3}       KNN   \n",
            "20    {'n_neighbors': 2}       KNN   \n",
            "...                  ...       ...   \n",
            "7240  {'n_neighbors': 2}       KNN   \n",
            "7244  {'n_neighbors': 2}       KNN   \n",
            "7248  {'n_neighbors': 3}       KNN   \n",
            "7252  {'n_neighbors': 3}       KNN   \n",
            "7256  {'n_neighbors': 3}       KNN   \n",
            "\n",
            "                                                 Y_PRED  \\\n",
            "4     [[0.3720171347602913], [0.4314023102836709], [...   \n",
            "8     [[0.419142417446301], [0.6525284562763325], [0...   \n",
            "12    [[0.3720171347602913], [0.4636097478581545], [...   \n",
            "16    [[0.4314023102836709], [0.38252460893147], [0....   \n",
            "20    [[0.3720171347602913], [0.458538290465153], [0...   \n",
            "...                                                 ...   \n",
            "7240  [[0.3720171347602913], [0.458538290465153], [0...   \n",
            "7244  [[0.4303255229104691], [0.4168504321225141], [...   \n",
            "7248  [[0.4461981664117406], [0.38252460893147], [0....   \n",
            "7252  [[0.4143027391218666], [0.5159312920510097], [...   \n",
            "7256  [[0.4143027391218666], [0.5159312920510097], [...   \n",
            "\n",
            "                                                 Y_TRUE  \n",
            "4     [[0.3720171347602913], [0.4314023102836709], [...  \n",
            "8     [[0.419142417446301], [0.6525284562763325], [0...  \n",
            "12    [[0.3720171347602913], [0.4636097478581545], [...  \n",
            "16    [[0.4314023102836709], [0.38252460893147], [0....  \n",
            "20    [[0.3720171347602913], [0.458538290465153], [0...  \n",
            "...                                                 ...  \n",
            "7240  [[0.3720171347602913], [0.458538290465153], [0...  \n",
            "7244  [[0.4303255229104691], [0.4168504321225141], [...  \n",
            "7248  [[0.4461981664117406], [0.38252460893147], [0....  \n",
            "7252  [[0.4143027391218666], [0.5159312920510097], [...  \n",
            "7256  [[0.4143027391218666], [0.5159312920510097], [...  \n",
            "\n",
            "[1770 rows x 12 columns]\n",
            "      RUN Output   Dataset   MAPE  R$^2$    MSE   RMSE    MAE  \\\n",
            "2       0  Class  farmacos 2.6686 0.9035 0.0003 0.0183 0.0119   \n",
            "6       1  Class  farmacos 2.8948 0.8945 0.0004 0.0210 0.0129   \n",
            "10      2  Class  farmacos 2.6629 0.9124 0.0003 0.0179 0.0117   \n",
            "14      3  Class  farmacos 2.7055 0.8989 0.0004 0.0196 0.0123   \n",
            "18      4  Class  farmacos 2.6270 0.9121 0.0003 0.0179 0.0116   \n",
            "...   ...    ...       ...    ...    ...    ...    ...    ...   \n",
            "7242    5  Class  farmacos    inf 0.9089 0.0004 0.0189 0.0117   \n",
            "7246    6  Class  farmacos 2.7897 0.8956 0.0004 0.0193 0.0123   \n",
            "7250    7  Class  farmacos 2.5551 0.9164 0.0003 0.0175 0.0111   \n",
            "7254    8  Class  farmacos 2.6486 0.9092 0.0003 0.0182 0.0118   \n",
            "7258    9  Class  farmacos 2.9437 0.8732 0.0005 0.0228 0.0129   \n",
            "\n",
            "                                             Parameters Estimator  \\\n",
            "2     {'max_depth': 15, 'min_samples_leaf': 2, 'min_...        RF   \n",
            "6     {'max_depth': 15, 'min_samples_leaf': 2, 'min_...        RF   \n",
            "10    {'max_depth': 15, 'min_samples_leaf': 2, 'min_...        RF   \n",
            "14    {'max_depth': 15, 'min_samples_leaf': 2, 'min_...        RF   \n",
            "18    {'max_depth': 15, 'min_samples_leaf': 2, 'min_...        RF   \n",
            "...                                                 ...       ...   \n",
            "7242  {'max_depth': 15, 'min_samples_leaf': 2, 'min_...        RF   \n",
            "7246  {'max_depth': 15, 'min_samples_leaf': 2, 'min_...        RF   \n",
            "7250  {'max_depth': 15, 'min_samples_leaf': 2, 'min_...        RF   \n",
            "7254  {'max_depth': 15, 'min_samples_leaf': 2, 'min_...        RF   \n",
            "7258  {'max_depth': 15, 'min_samples_leaf': 2, 'min_...        RF   \n",
            "\n",
            "                                                 Y_PRED  \\\n",
            "2     [[0.3720171347602913], [0.4314023102836709], [...   \n",
            "6     [[0.419142417446301], [0.6525284562763325], [0...   \n",
            "10    [[0.3720171347602913], [0.4636097478581545], [...   \n",
            "14    [[0.4314023102836709], [0.38252460893147], [0....   \n",
            "18    [[0.3720171347602913], [0.458538290465153], [0...   \n",
            "...                                                 ...   \n",
            "7242  [[0.4303255229104691], [0.4168504321225141], [...   \n",
            "7246  [[0.4461981664117406], [0.38252460893147], [0....   \n",
            "7250  [[0.4143027391218666], [0.5159312920510097], [...   \n",
            "7254  [[0.4143027391218666], [0.5159312920510097], [...   \n",
            "7258  [[0.3720171347602913], [0.463131175692287], [0...   \n",
            "\n",
            "                                                 Y_TRUE  \n",
            "2     [[0.3720171347602913], [0.4314023102836709], [...  \n",
            "6     [[0.419142417446301], [0.6525284562763325], [0...  \n",
            "10    [[0.3720171347602913], [0.4636097478581545], [...  \n",
            "14    [[0.4314023102836709], [0.38252460893147], [0....  \n",
            "18    [[0.3720171347602913], [0.458538290465153], [0...  \n",
            "...                                                 ...  \n",
            "7242  [[0.4303255229104691], [0.4168504321225141], [...  \n",
            "7246  [[0.4461981664117406], [0.38252460893147], [0....  \n",
            "7250  [[0.4143027391218666], [0.5159312920510097], [...  \n",
            "7254  [[0.4143027391218666], [0.5159312920510097], [...  \n",
            "7258  [[0.3720171347602913], [0.463131175692287], [0...  \n",
            "\n",
            "[1830 rows x 12 columns]\n",
            "      RUN Output   Dataset   MAPE  R$^2$    MSE   RMSE    MAE  \\\n",
            "3       0  Class  farmacos 5.6999 0.6745 0.0011 0.0337 0.0262   \n",
            "7       1  Class  farmacos 6.0433 0.6883 0.0013 0.0362 0.0277   \n",
            "11      2  Class  farmacos 5.4318 0.7273 0.0010 0.0316 0.0249   \n",
            "15      3  Class  farmacos 5.6775 0.6924 0.0012 0.0342 0.0263   \n",
            "19      4  Class  farmacos 5.2634 0.7329 0.0010 0.0312 0.0242   \n",
            "...   ...    ...       ...    ...    ...    ...    ...    ...   \n",
            "7243    5  Class  farmacos    inf 0.6901 0.0012 0.0349 0.0266   \n",
            "7247    6  Class  farmacos 6.1906 0.6628 0.0012 0.0347 0.0281   \n",
            "7251    7  Class  farmacos 5.4302 0.7282 0.0010 0.0315 0.0243   \n",
            "7255    8  Class  farmacos 5.2465 0.7397 0.0009 0.0308 0.0240   \n",
            "7259    9  Class  farmacos 6.0655 0.7114 0.0012 0.0345 0.0277   \n",
            "\n",
            "                    Parameters Estimator  \\\n",
            "3         {'C': 1, 'gamma': 1}       SVR   \n",
            "7         {'C': 1, 'gamma': 1}       SVR   \n",
            "11        {'C': 1, 'gamma': 1}       SVR   \n",
            "15       {'C': 10, 'gamma': 1}       SVR   \n",
            "19        {'C': 1, 'gamma': 1}       SVR   \n",
            "...                        ...       ...   \n",
            "7243      {'C': 1, 'gamma': 1}       SVR   \n",
            "7247  {'C': 100, 'gamma': 0.1}       SVR   \n",
            "7251      {'C': 1, 'gamma': 1}       SVR   \n",
            "7255      {'C': 1, 'gamma': 1}       SVR   \n",
            "7259  {'C': 100, 'gamma': 0.1}       SVR   \n",
            "\n",
            "                                                 Y_PRED  \\\n",
            "3     [[0.3720171347602913], [0.4314023102836709], [...   \n",
            "7     [[0.419142417446301], [0.6525284562763325], [0...   \n",
            "11    [[0.3720171347602913], [0.4636097478581545], [...   \n",
            "15    [[0.4314023102836709], [0.38252460893147], [0....   \n",
            "19    [[0.3720171347602913], [0.458538290465153], [0...   \n",
            "...                                                 ...   \n",
            "7243  [[0.4303255229104691], [0.4168504321225141], [...   \n",
            "7247  [[0.4461981664117406], [0.38252460893147], [0....   \n",
            "7251  [[0.4143027391218666], [0.5159312920510097], [...   \n",
            "7255  [[0.4143027391218666], [0.5159312920510097], [...   \n",
            "7259  [[0.3720171347602913], [0.463131175692287], [0...   \n",
            "\n",
            "                                                 Y_TRUE  \n",
            "3     [[0.3720171347602913], [0.4314023102836709], [...  \n",
            "7     [[0.419142417446301], [0.6525284562763325], [0...  \n",
            "11    [[0.3720171347602913], [0.4636097478581545], [...  \n",
            "15    [[0.4314023102836709], [0.38252460893147], [0....  \n",
            "19    [[0.3720171347602913], [0.458538290465153], [0...  \n",
            "...                                                 ...  \n",
            "7243  [[0.4303255229104691], [0.4168504321225141], [...  \n",
            "7247  [[0.4461981664117406], [0.38252460893147], [0....  \n",
            "7251  [[0.4143027391218666], [0.5159312920510097], [...  \n",
            "7255  [[0.4143027391218666], [0.5159312920510097], [...  \n",
            "7259  [[0.3720171347602913], [0.463131175692287], [0...  \n",
            "\n",
            "[1800 rows x 12 columns]\n"
          ]
        }
      ],
      "source": [
        "for (c,o), df in C.groupby(['Estimator','Output']):\n",
        "    print(df)"
      ]
    },
    {
      "cell_type": "code",
      "execution_count": null,
      "metadata": {
        "id": "neZN2wKXxlKH",
        "outputId": "4dc11446-b7ab-4283-e574-44bfda50aaa9",
        "colab": {
          "base_uri": "https://localhost:8080/"
        }
      },
      "outputs": [
        {
          "output_type": "stream",
          "name": "stdout",
          "text": [
            "================================================================================ \n",
            " ELM \n",
            " ================================================================================ \n",
            "        MAPE  R$^2$    MSE   RMSE    MAE\n",
            "0    3.3615 0.8863 0.0004 0.0199 0.0148\n",
            "1    3.3615 0.8863 0.0004 0.0199 0.0148\n",
            "5    3.2892 0.9070 0.0004 0.0198 0.0143\n",
            "9    3.4222 0.8955 0.0004 0.0195 0.0150\n",
            "13   3.1843 0.8989 0.0004 0.0196 0.0141\n",
            "...     ...    ...    ...    ...    ...\n",
            "7241    inf 0.9043 0.0004 0.0194 0.0143\n",
            "7245 3.3302 0.8906 0.0004 0.0198 0.0146\n",
            "7249 3.0551 0.9095 0.0003 0.0182 0.0135\n",
            "7253 3.1992 0.8940 0.0004 0.0197 0.0141\n",
            "7257 3.3620 0.8973 0.0004 0.0206 0.0147\n",
            "\n",
            "[1860 rows x 5 columns] \n",
            " ================================================================================\n",
            "Media\n",
            "MAPE       inf\n",
            "R$^2$   0.8888\n",
            "MSE     0.0004\n",
            "RMSE    0.0203\n",
            "MAE     0.0145\n",
            "dtype: float64\n",
            "Desvio Padrao\n",
            "MAPE       NaN\n",
            "R$^2$   0.0468\n",
            "MSE     0.0002\n",
            "RMSE    0.0032\n",
            "MAE     0.0005\n",
            "dtype: float64\n",
            "================================================================================ \n",
            " KNN \n",
            " ================================================================================ \n",
            "        MAPE  R$^2$    MSE   RMSE    MAE\n",
            "4    3.5097 0.8478 0.0005 0.0230 0.0156\n",
            "8    3.6266 0.8592 0.0006 0.0243 0.0161\n",
            "12   3.4461 0.8666 0.0005 0.0221 0.0152\n",
            "16   3.4310 0.8562 0.0005 0.0234 0.0155\n",
            "20   3.5282 0.8352 0.0006 0.0245 0.0156\n",
            "...     ...    ...    ...    ...    ...\n",
            "7240 3.5282 0.8352 0.0006 0.0245 0.0156\n",
            "7244    inf 0.8246 0.0007 0.0262 0.0163\n",
            "7248 3.5769 0.8386 0.0006 0.0240 0.0158\n",
            "7252 3.3640 0.8642 0.0005 0.0222 0.0148\n",
            "7256 3.4791 0.8642 0.0005 0.0223 0.0154\n",
            "\n",
            "[1770 rows x 5 columns] \n",
            " ================================================================================\n",
            "Media\n",
            "MAPE       inf\n",
            "R$^2$   0.8462\n",
            "MSE     0.0006\n",
            "RMSE    0.0242\n",
            "MAE     0.0158\n",
            "dtype: float64\n",
            "Desvio Padrao\n",
            "MAPE       NaN\n",
            "R$^2$   0.0132\n",
            "MSE     0.0001\n",
            "RMSE    0.0014\n",
            "MAE     0.0005\n",
            "dtype: float64\n",
            "================================================================================ \n",
            " RF \n",
            " ================================================================================ \n",
            "        MAPE  R$^2$    MSE   RMSE    MAE\n",
            "2    2.6686 0.9035 0.0003 0.0183 0.0119\n",
            "6    2.8948 0.8945 0.0004 0.0210 0.0129\n",
            "10   2.6629 0.9124 0.0003 0.0179 0.0117\n",
            "14   2.7055 0.8989 0.0004 0.0196 0.0123\n",
            "18   2.6270 0.9121 0.0003 0.0179 0.0116\n",
            "...     ...    ...    ...    ...    ...\n",
            "7242    inf 0.9089 0.0004 0.0189 0.0117\n",
            "7246 2.7897 0.8956 0.0004 0.0193 0.0123\n",
            "7250 2.5551 0.9164 0.0003 0.0175 0.0111\n",
            "7254 2.6486 0.9092 0.0003 0.0182 0.0118\n",
            "7258 2.9437 0.8732 0.0005 0.0228 0.0129\n",
            "\n",
            "[1830 rows x 5 columns] \n",
            " ================================================================================\n",
            "Media\n",
            "MAPE       inf\n",
            "R$^2$   0.9022\n",
            "MSE     0.0004\n",
            "RMSE    0.0193\n",
            "MAE     0.0121\n",
            "dtype: float64\n",
            "Desvio Padrao\n",
            "MAPE       NaN\n",
            "R$^2$   0.0097\n",
            "MSE     0.0001\n",
            "RMSE    0.0013\n",
            "MAE     0.0005\n",
            "dtype: float64\n",
            "================================================================================ \n",
            " SVR \n",
            " ================================================================================ \n",
            "        MAPE  R$^2$    MSE   RMSE    MAE\n",
            "3    5.6999 0.6745 0.0011 0.0337 0.0262\n",
            "7    6.0433 0.6883 0.0013 0.0362 0.0277\n",
            "11   5.4318 0.7273 0.0010 0.0316 0.0249\n",
            "15   5.6775 0.6924 0.0012 0.0342 0.0263\n",
            "19   5.2634 0.7329 0.0010 0.0312 0.0242\n",
            "...     ...    ...    ...    ...    ...\n",
            "7243    inf 0.6901 0.0012 0.0349 0.0266\n",
            "7247 6.1906 0.6628 0.0012 0.0347 0.0281\n",
            "7251 5.4302 0.7282 0.0010 0.0315 0.0243\n",
            "7255 5.2465 0.7397 0.0009 0.0308 0.0240\n",
            "7259 6.0655 0.7114 0.0012 0.0345 0.0277\n",
            "\n",
            "[1800 rows x 5 columns] \n",
            " ================================================================================\n",
            "Media\n",
            "MAPE       inf\n",
            "R$^2$   0.7034\n",
            "MSE     0.0011\n",
            "RMSE    0.0336\n",
            "MAE     0.0260\n",
            "dtype: float64\n",
            "Desvio Padrao\n",
            "MAPE       NaN\n",
            "R$^2$   0.0254\n",
            "MSE     0.0001\n",
            "RMSE    0.0018\n",
            "MAE     0.0013\n",
            "dtype: float64\n"
          ]
        }
      ],
      "source": [
        "for (c,o), df in C.groupby(['Estimator','Output']):\n",
        "    g=df['Parameters']\n",
        "    par= pd.DataFrame(list(g))\n",
        "    par['Estimator']=c[0]\n",
        "    par['Output'] = c[1]\n",
        "    aux=par.copy()\n",
        "    print ('='*80,'\\n',c,'\\n','='*80,'\\n',df[metrics],'\\n','='*80)\n",
        "    print('Media'+'\\n'+str(df[metrics].mean()))\n",
        "    print('Desvio Padrao'+'\\n'+str(df[metrics].std()))"
      ]
    },
    {
      "cell_type": "code",
      "execution_count": null,
      "metadata": {
        "id": "uIlO2mE-1I8u",
        "outputId": "b0b77736-1ad9-445f-fe12-89cb37d22206",
        "colab": {
          "base_uri": "https://localhost:8080/"
        }
      },
      "outputs": [
        {
          "output_type": "stream",
          "name": "stdout",
          "text": [
            "      RUN Output   Dataset   MAPE  R$^2$    MSE   RMSE    MAE  \\\n",
            "6305   21  Class  farmacos 2.6054 0.9167 0.0003 0.0171 0.0114   \n",
            "1227   21  Class  farmacos 2.6054 0.9167 0.0003 0.0171 0.0114   \n",
            "2847   21  Class  farmacos 2.6054 0.9167 0.0003 0.0171 0.0114   \n",
            "4581   21  Class  farmacos 2.6054 0.9167 0.0003 0.0171 0.0114   \n",
            "4491   21  Class  farmacos 2.6054 0.9167 0.0003 0.0171 0.0114   \n",
            "...   ...    ...       ...    ...    ...    ...    ...    ...   \n",
            "6863    9  Class  farmacos 2.9437 0.8732 0.0005 0.0228 0.0129   \n",
            "6348    9  Class  farmacos 2.9437 0.8732 0.0005 0.0228 0.0129   \n",
            "4117    9  Class  farmacos 2.9437 0.8732 0.0005 0.0228 0.0129   \n",
            "6087    9  Class  farmacos 2.9437 0.8732 0.0005 0.0228 0.0129   \n",
            "7258    9  Class  farmacos 2.9437 0.8732 0.0005 0.0228 0.0129   \n",
            "\n",
            "                                             Parameters Estimator  \\\n",
            "6305  {'max_depth': 15, 'min_samples_leaf': 2, 'min_...        RF   \n",
            "1227  {'max_depth': 15, 'min_samples_leaf': 2, 'min_...        RF   \n",
            "2847  {'max_depth': 15, 'min_samples_leaf': 2, 'min_...        RF   \n",
            "4581  {'max_depth': 15, 'min_samples_leaf': 2, 'min_...        RF   \n",
            "4491  {'max_depth': 15, 'min_samples_leaf': 2, 'min_...        RF   \n",
            "...                                                 ...       ...   \n",
            "6863  {'max_depth': 15, 'min_samples_leaf': 2, 'min_...        RF   \n",
            "6348  {'max_depth': 15, 'min_samples_leaf': 2, 'min_...        RF   \n",
            "4117  {'max_depth': 15, 'min_samples_leaf': 2, 'min_...        RF   \n",
            "6087  {'max_depth': 15, 'min_samples_leaf': 2, 'min_...        RF   \n",
            "7258  {'max_depth': 15, 'min_samples_leaf': 2, 'min_...        RF   \n",
            "\n",
            "                                                 Y_PRED  \\\n",
            "6305  [[0.4143027391218666], [0.458538290465153], [0...   \n",
            "1227  [[0.4143027391218666], [0.458538290465153], [0...   \n",
            "2847  [[0.4143027391218666], [0.458538290465153], [0...   \n",
            "4581  [[0.4143027391218666], [0.458538290465153], [0...   \n",
            "4491  [[0.4143027391218666], [0.458538290465153], [0...   \n",
            "...                                                 ...   \n",
            "6863  [[0.3720171347602913], [0.463131175692287], [0...   \n",
            "6348  [[0.3720171347602913], [0.463131175692287], [0...   \n",
            "4117  [[0.3720171347602913], [0.463131175692287], [0...   \n",
            "6087  [[0.3720171347602913], [0.463131175692287], [0...   \n",
            "7258  [[0.3720171347602913], [0.463131175692287], [0...   \n",
            "\n",
            "                                                 Y_TRUE  \n",
            "6305  [[0.4143027391218666], [0.458538290465153], [0...  \n",
            "1227  [[0.4143027391218666], [0.458538290465153], [0...  \n",
            "2847  [[0.4143027391218666], [0.458538290465153], [0...  \n",
            "4581  [[0.4143027391218666], [0.458538290465153], [0...  \n",
            "4491  [[0.4143027391218666], [0.458538290465153], [0...  \n",
            "...                                                 ...  \n",
            "6863  [[0.3720171347602913], [0.463131175692287], [0...  \n",
            "6348  [[0.3720171347602913], [0.463131175692287], [0...  \n",
            "4117  [[0.3720171347602913], [0.463131175692287], [0...  \n",
            "6087  [[0.3720171347602913], [0.463131175692287], [0...  \n",
            "7258  [[0.3720171347602913], [0.463131175692287], [0...  \n",
            "\n",
            "[1830 rows x 12 columns]\n",
            "RF\n",
            "Parameters[{'max_depth': 15, 'min_samples_leaf': 2, 'min_samples_split': 4, 'n_estimators': 100}]\n",
            "RMSE\n",
            "[0.01710437]\n",
            "MSE[0.00029256]\n",
            "MAE[0.0113561]\n",
            "R$^2$[0.91669862]\n",
            "MAPE\n",
            "[2.60536349]\n"
          ]
        }
      ],
      "source": [
        "\n",
        "#melhores parâmetros e metricas RF\n",
        "df_rf = C[C['Estimator']=='RF']\n",
        "df_rf.sort_values(['RMSE'])\n",
        "best_parameters_rf = df_rf[df_rf.index == 6305]['Parameters']\n",
        "rmse_rf = df_rf[df_rf.index == 6305]['RMSE']\n",
        "mse_rf = df_rf[df_rf.index == 6305]['MSE']\n",
        "mae_rf = df_rf[df_rf.index == 6305]['MAE']\n",
        "r2_rf = df_rf[df_rf.index == 6305]['R$^2$']\n",
        "mape_rf = df_rf[df_rf.index == 6305]['MAPE']\n",
        "\n",
        "\n",
        "print(df_rf.sort_values(['RMSE']))\n",
        "print('RF'+'\\n'+'Parameters'+str(best_parameters_rf.values )+'\\n'+'RMSE'+'\\n'+str(rmse_rf.values )+'\\n'+'MSE'+str(mse_rf.values )+'\\n'+'MAE'+str(mae_rf.values )+'\\n'+'R$^2$'+str(r2_rf.values )+'\\n'+'MAPE'+'\\n'+str(mape_rf.values ))\n",
        "\n"
      ]
    },
    {
      "cell_type": "code",
      "execution_count": null,
      "metadata": {
        "id": "wLkg6pXWkXbI",
        "outputId": "5948bb1f-55c3-447c-c706-883a2ed59ee5",
        "colab": {
          "base_uri": "https://localhost:8080/"
        }
      },
      "outputs": [
        {
          "output_type": "stream",
          "name": "stdout",
          "text": [
            "      RUN Output   Dataset   MAPE  R$^2$    MSE   RMSE    MAE  \\\n",
            "848    21  Class  farmacos 5.3135 0.7392 0.0009 0.0303 0.0239   \n",
            "4982   21  Class  farmacos 5.3135 0.7392 0.0009 0.0303 0.0239   \n",
            "1030   21  Class  farmacos 5.3135 0.7392 0.0009 0.0303 0.0239   \n",
            "2572   21  Class  farmacos 5.3135 0.7392 0.0009 0.0303 0.0239   \n",
            "1442   21  Class  farmacos 5.3135 0.7392 0.0009 0.0303 0.0239   \n",
            "...   ...    ...       ...    ...    ...    ...    ...    ...   \n",
            "430    14  Class  farmacos    inf 0.6526 0.0014 0.0378 0.0259   \n",
            "4746   14  Class  farmacos    inf 0.6526 0.0014 0.0378 0.0259   \n",
            "2224   14  Class  farmacos    inf 0.6526 0.0014 0.0378 0.0259   \n",
            "365    14  Class  farmacos    inf 0.6526 0.0014 0.0378 0.0259   \n",
            "4848   14  Class  farmacos    inf 0.6526 0.0014 0.0378 0.0259   \n",
            "\n",
            "                Parameters Estimator  \\\n",
            "848   {'C': 1, 'gamma': 1}       SVR   \n",
            "4982  {'C': 1, 'gamma': 1}       SVR   \n",
            "1030  {'C': 1, 'gamma': 1}       SVR   \n",
            "2572  {'C': 1, 'gamma': 1}       SVR   \n",
            "1442  {'C': 1, 'gamma': 1}       SVR   \n",
            "...                    ...       ...   \n",
            "430   {'C': 1, 'gamma': 1}       SVR   \n",
            "4746  {'C': 1, 'gamma': 1}       SVR   \n",
            "2224  {'C': 1, 'gamma': 1}       SVR   \n",
            "365   {'C': 1, 'gamma': 1}       SVR   \n",
            "4848  {'C': 1, 'gamma': 1}       SVR   \n",
            "\n",
            "                                                 Y_PRED  \\\n",
            "848   [[0.4143027391218666], [0.458538290465153], [0...   \n",
            "4982  [[0.4143027391218666], [0.458538290465153], [0...   \n",
            "1030  [[0.4143027391218666], [0.458538290465153], [0...   \n",
            "2572  [[0.4143027391218666], [0.458538290465153], [0...   \n",
            "1442  [[0.4143027391218666], [0.458538290465153], [0...   \n",
            "...                                                 ...   \n",
            "430   [[0.4237052746159689], [0.4143027391218666], [...   \n",
            "4746  [[0.4237052746159689], [0.4143027391218666], [...   \n",
            "2224  [[0.4237052746159689], [0.4143027391218666], [...   \n",
            "365   [[0.4237052746159689], [0.4143027391218666], [...   \n",
            "4848  [[0.4237052746159689], [0.4143027391218666], [...   \n",
            "\n",
            "                                                 Y_TRUE  \n",
            "848   [[0.4143027391218666], [0.458538290465153], [0...  \n",
            "4982  [[0.4143027391218666], [0.458538290465153], [0...  \n",
            "1030  [[0.4143027391218666], [0.458538290465153], [0...  \n",
            "2572  [[0.4143027391218666], [0.458538290465153], [0...  \n",
            "1442  [[0.4143027391218666], [0.458538290465153], [0...  \n",
            "...                                                 ...  \n",
            "430   [[0.4237052746159689], [0.4143027391218666], [...  \n",
            "4746  [[0.4237052746159689], [0.4143027391218666], [...  \n",
            "2224  [[0.4237052746159689], [0.4143027391218666], [...  \n",
            "365   [[0.4237052746159689], [0.4143027391218666], [...  \n",
            "4848  [[0.4237052746159689], [0.4143027391218666], [...  \n",
            "\n",
            "[1800 rows x 12 columns]\n",
            "SVR\n",
            "Parameters[{'C': 1, 'gamma': 1}]\n",
            "RMSE\n",
            "[0.03026729]\n",
            "MSE[0.00091611]\n",
            "MAE[0.02388629]\n",
            "R$^2$[0.73915355]\n",
            "MAPE[5.31345134]\n"
          ]
        }
      ],
      "source": [
        "#melhores parâmetros e metricas SVR\n",
        "df_svr = C[C['Estimator']=='SVR']\n",
        "df_svr.sort_values(['RMSE'])\n",
        "best_parameters_svr = df_svr[df_svr.index ==848]['Parameters']\n",
        "rmse_svr = df_svr[df_svr.index == 848]['RMSE']\n",
        "mse_svr = df_svr[df_svr.index == 848]['MSE']\n",
        "mae_svr = df_svr[df_svr.index == 848]['MAE']\n",
        "r2_svr = df_svr[df_svr.index == 848]['R$^2$']\n",
        "mape_svr = df_svr[df_svr.index == 848]['MAPE']\n",
        "\n",
        "print(df_svr.sort_values(['RMSE']))\n",
        "print('SVR'+'\\n'+'Parameters'+str(best_parameters_svr.values )+'\\n'+'RMSE'+'\\n'+str(rmse_svr.values )+'\\n'+'MSE'+str(mse_svr.values )+'\\n'+'MAE'+str(mae_svr.values )+'\\n'+'R$^2$'+str(r2_svr.values )+'\\n'+'MAPE'+str(mape_svr.values ))"
      ]
    },
    {
      "cell_type": "code",
      "source": [
        "\n",
        "#melhores parâmetros e metricas ELM\n",
        "df_elm = C[C['Estimator']=='ELM']\n",
        "df_elm.sort_values(['RMSE'])\n",
        "best_parameters_elm = df_elm[df_elm.index == 5917]['Parameters']\n",
        "rmse_elm = df_elm[df_elm.index == 5917]['RMSE']\n",
        "mse_elm = df_elm[df_elm.index == 5917]['MSE']\n",
        "mae_elm = df_elm[df_elm.index == 5917]['MAE']\n",
        "r2_elm = df_elm[df_elm.index == 5917]['R$^2$']\n",
        "mape_elm = df_elm[df_elm.index == 5917]['MAPE']\n",
        "\n",
        "\n",
        "print(df_elm.sort_values(['RMSE']))\n",
        "print('ELM'+'\\n'+'Parameters'+str(best_parameters_elm.values )+'\\n'+'RMSE'+'\\n'+str(rmse_elm.values )+'\\n'+'MSE'+str(mse_elm.values )+'\\n'+'MAE'+str(mae_elm.values )+'\\n'+'R$^2$'+str(r2_elm.values )+'\\n'+'MAPE'+'\\n'+str(mape_elm.values ))\n",
        "\n"
      ],
      "metadata": {
        "colab": {
          "base_uri": "https://localhost:8080/"
        },
        "id": "MgCA76RLwDXh",
        "outputId": "396bd0cd-d925-4c25-fb8a-f055bc4846b3"
      },
      "execution_count": null,
      "outputs": [
        {
          "output_type": "stream",
          "name": "stdout",
          "text": [
            "      RUN Output   Dataset   MAPE  R$^2$    MSE   RMSE    MAE  \\\n",
            "5917    7  Class  farmacos 3.0551 0.9095 0.0003 0.0182 0.0135   \n",
            "4524    7  Class  farmacos 3.0551 0.9095 0.0003 0.0182 0.0135   \n",
            "1497    7  Class  farmacos 3.0551 0.9095 0.0003 0.0182 0.0135   \n",
            "5504    7  Class  farmacos 3.0551 0.9095 0.0003 0.0182 0.0135   \n",
            "4434    7  Class  farmacos 3.0551 0.9095 0.0003 0.0182 0.0135   \n",
            "...   ...    ...       ...    ...    ...    ...    ...    ...   \n",
            "5050   11  Class  farmacos 3.9832 0.6651 0.0013 0.0357 0.0162   \n",
            "2806   11  Class  farmacos 3.9832 0.6651 0.0013 0.0357 0.0162   \n",
            "2906   11  Class  farmacos 3.9832 0.6651 0.0013 0.0357 0.0162   \n",
            "6759   11  Class  farmacos 3.9832 0.6651 0.0013 0.0357 0.0162   \n",
            "2078   11  Class  farmacos 3.9832 0.6651 0.0013 0.0357 0.0162   \n",
            "\n",
            "                               Parameters Estimator  \\\n",
            "5917  {'n_neurons': 200, 'ufunc': 'relu'}       ELM   \n",
            "4524  {'n_neurons': 200, 'ufunc': 'relu'}       ELM   \n",
            "1497  {'n_neurons': 200, 'ufunc': 'relu'}       ELM   \n",
            "5504  {'n_neurons': 200, 'ufunc': 'relu'}       ELM   \n",
            "4434  {'n_neurons': 200, 'ufunc': 'relu'}       ELM   \n",
            "...                                   ...       ...   \n",
            "5050  {'n_neurons': 200, 'ufunc': 'tanh'}       ELM   \n",
            "2806  {'n_neurons': 200, 'ufunc': 'tanh'}       ELM   \n",
            "2906  {'n_neurons': 200, 'ufunc': 'tanh'}       ELM   \n",
            "6759  {'n_neurons': 200, 'ufunc': 'tanh'}       ELM   \n",
            "2078  {'n_neurons': 200, 'ufunc': 'tanh'}       ELM   \n",
            "\n",
            "                                                 Y_PRED  \\\n",
            "5917  [[0.4143027391218666], [0.5159312920510097], [...   \n",
            "4524  [[0.4143027391218666], [0.5159312920510097], [...   \n",
            "1497  [[0.4143027391218666], [0.5159312920510097], [...   \n",
            "5504  [[0.4143027391218666], [0.5159312920510097], [...   \n",
            "4434  [[0.4143027391218666], [0.5159312920510097], [...   \n",
            "...                                                 ...   \n",
            "5050  [[0.3720171347602913], [0.4237052746159689], [...   \n",
            "2806  [[0.3720171347602913], [0.4237052746159689], [...   \n",
            "2906  [[0.3720171347602913], [0.4237052746159689], [...   \n",
            "6759  [[0.3720171347602913], [0.4237052746159689], [...   \n",
            "2078  [[0.3720171347602913], [0.4237052746159689], [...   \n",
            "\n",
            "                                                 Y_TRUE  \n",
            "5917  [[0.4143027391218666], [0.5159312920510097], [...  \n",
            "4524  [[0.4143027391218666], [0.5159312920510097], [...  \n",
            "1497  [[0.4143027391218666], [0.5159312920510097], [...  \n",
            "5504  [[0.4143027391218666], [0.5159312920510097], [...  \n",
            "4434  [[0.4143027391218666], [0.5159312920510097], [...  \n",
            "...                                                 ...  \n",
            "5050  [[0.3720171347602913], [0.4237052746159689], [...  \n",
            "2806  [[0.3720171347602913], [0.4237052746159689], [...  \n",
            "2906  [[0.3720171347602913], [0.4237052746159689], [...  \n",
            "6759  [[0.3720171347602913], [0.4237052746159689], [...  \n",
            "2078  [[0.3720171347602913], [0.4237052746159689], [...  \n",
            "\n",
            "[1860 rows x 12 columns]\n",
            "ELM\n",
            "Parameters[{'n_neurons': 200, 'ufunc': 'relu'}]\n",
            "RMSE\n",
            "[0.01815924]\n",
            "MSE[0.00032976]\n",
            "MAE[0.01352976]\n",
            "R$^2$[0.90946233]\n",
            "MAPE\n",
            "[3.05508517]\n"
          ]
        }
      ]
    },
    {
      "cell_type": "code",
      "source": [
        "\n",
        "#melhores parâmetros e metricas KNN\n",
        "df_knn = C[C['Estimator']=='KNN']\n",
        "df_knn.sort_values(['RMSE'])\n",
        "best_parameters_knn = df_knn[df_knn.index == 1785]['Parameters']\n",
        "rmse_knn = df_knn[df_knn.index == 1785]['RMSE']\n",
        "mse_knn = df_knn[df_knn.index == 1785]['MSE']\n",
        "mae_knn = df_knn[df_knn.index == 1785]['MAE']\n",
        "r2_knn = df_knn[df_knn.index == 1785]['R$^2$']\n",
        "mape_knn = df_knn[df_knn.index == 1785]['MAPE']\n",
        "\n",
        "\n",
        "print(df_knn.sort_values(['RMSE']))\n",
        "print('ELM'+'\\n'+'Parameters'+str(best_parameters_knn.values )+'\\n'+'RMSE'+'\\n'+str(rmse_knn.values )+'\\n'+'MSE'+str(mse_knn.values )+'\\n'+'MAE'+str(mae_knn.values )+'\\n'+'R$^2$'+str(r2_knn.values )+'\\n'+'MAPE'+'\\n'+str(mape_knn.values ))\n",
        "\n"
      ],
      "metadata": {
        "colab": {
          "base_uri": "https://localhost:8080/"
        },
        "id": "K34LyNWBwk88",
        "outputId": "eac07ef9-06be-4a68-cf3c-1e4f9cb4134b"
      },
      "execution_count": null,
      "outputs": [
        {
          "output_type": "stream",
          "name": "stdout",
          "text": [
            "      RUN Output   Dataset   MAPE  R$^2$    MSE   RMSE    MAE  \\\n",
            "1785    2  Class  farmacos 3.4461 0.8666 0.0005 0.0221 0.0152   \n",
            "2497    2  Class  farmacos 3.4461 0.8666 0.0005 0.0221 0.0152   \n",
            "688     2  Class  farmacos 3.4461 0.8666 0.0005 0.0221 0.0152   \n",
            "6144    2  Class  farmacos 3.4461 0.8666 0.0005 0.0221 0.0152   \n",
            "5131    2  Class  farmacos 3.4461 0.8666 0.0005 0.0221 0.0152   \n",
            "...   ...    ...       ...    ...    ...    ...    ...    ...   \n",
            "3763   10  Class  farmacos    inf 0.8314 0.0007 0.0265 0.0170   \n",
            "4197   10  Class  farmacos    inf 0.8314 0.0007 0.0265 0.0170   \n",
            "6758   10  Class  farmacos    inf 0.8314 0.0007 0.0265 0.0170   \n",
            "6869   10  Class  farmacos    inf 0.8314 0.0007 0.0265 0.0170   \n",
            "4123   10  Class  farmacos    inf 0.8314 0.0007 0.0265 0.0170   \n",
            "\n",
            "              Parameters Estimator  \\\n",
            "1785  {'n_neighbors': 3}       KNN   \n",
            "2497  {'n_neighbors': 3}       KNN   \n",
            "688   {'n_neighbors': 3}       KNN   \n",
            "6144  {'n_neighbors': 3}       KNN   \n",
            "5131  {'n_neighbors': 3}       KNN   \n",
            "...                  ...       ...   \n",
            "3763  {'n_neighbors': 3}       KNN   \n",
            "4197  {'n_neighbors': 3}       KNN   \n",
            "6758  {'n_neighbors': 3}       KNN   \n",
            "6869  {'n_neighbors': 3}       KNN   \n",
            "4123  {'n_neighbors': 3}       KNN   \n",
            "\n",
            "                                                 Y_PRED  \\\n",
            "1785  [[0.3720171347602913], [0.4636097478581545], [...   \n",
            "2497  [[0.3720171347602913], [0.4636097478581545], [...   \n",
            "688   [[0.3720171347602913], [0.4636097478581545], [...   \n",
            "6144  [[0.3720171347602913], [0.4636097478581545], [...   \n",
            "5131  [[0.3720171347602913], [0.4636097478581545], [...   \n",
            "...                                                 ...   \n",
            "3763  [[0.3720171347602913], [0.463131175692287], [0...   \n",
            "4197  [[0.3720171347602913], [0.463131175692287], [0...   \n",
            "6758  [[0.3720171347602913], [0.463131175692287], [0...   \n",
            "6869  [[0.3720171347602913], [0.463131175692287], [0...   \n",
            "4123  [[0.3720171347602913], [0.463131175692287], [0...   \n",
            "\n",
            "                                                 Y_TRUE  \n",
            "1785  [[0.3720171347602913], [0.4636097478581545], [...  \n",
            "2497  [[0.3720171347602913], [0.4636097478581545], [...  \n",
            "688   [[0.3720171347602913], [0.4636097478581545], [...  \n",
            "6144  [[0.3720171347602913], [0.4636097478581545], [...  \n",
            "5131  [[0.3720171347602913], [0.4636097478581545], [...  \n",
            "...                                                 ...  \n",
            "3763  [[0.3720171347602913], [0.463131175692287], [0...  \n",
            "4197  [[0.3720171347602913], [0.463131175692287], [0...  \n",
            "6758  [[0.3720171347602913], [0.463131175692287], [0...  \n",
            "6869  [[0.3720171347602913], [0.463131175692287], [0...  \n",
            "4123  [[0.3720171347602913], [0.463131175692287], [0...  \n",
            "\n",
            "[1770 rows x 12 columns]\n",
            "ELM\n",
            "Parameters[{'n_neighbors': 3}]\n",
            "RMSE\n",
            "[0.02207964]\n",
            "MSE[0.00048751]\n",
            "MAE[0.01515827]\n",
            "R$^2$[0.86659748]\n",
            "MAPE\n",
            "[3.44607772]\n"
          ]
        }
      ]
    },
    {
      "cell_type": "code",
      "source": [
        "primeiro_quartil = C[['MSE','RMSE','R$^2$']].quantile(q=0.25, axis=0, numeric_only=True)\n",
        "terceiro_quartil = C[['MSE','RMSE','R$^2$']].quantile(q=0.75, axis=0, numeric_only=True)"
      ],
      "metadata": {
        "id": "ukhrUZHN7MkO"
      },
      "execution_count": null,
      "outputs": []
    },
    {
      "cell_type": "code",
      "source": [
        "menor = primeiro_quartil[['MSE','RMSE','R$^2$']] - (terceiro_quartil[['MSE','RMSE','R$^2$']] - primeiro_quartil[['MSE','RMSE','R$^2$']])*1.5\n",
        "maior = terceiro_quartil[['MSE','RMSE','R$^2$']] + (terceiro_quartil[['MSE','RMSE','R$^2$']] - primeiro_quartil[['MSE','RMSE','R$^2$']])*1.5"
      ],
      "metadata": {
        "id": "jxSydjc-7ZC5"
      },
      "execution_count": null,
      "outputs": []
    },
    {
      "cell_type": "code",
      "source": [
        "menor"
      ],
      "metadata": {
        "colab": {
          "base_uri": "https://localhost:8080/"
        },
        "id": "rncElGHH75-7",
        "outputId": "5ff07367-9ca7-48f1-a210-224ae1916ee7"
      },
      "execution_count": null,
      "outputs": [
        {
          "output_type": "execute_result",
          "data": {
            "text/plain": [
              "MSE     -0.2019\n",
              "RMSE     0.4200\n",
              "R$^2$    0.6393\n",
              "dtype: float64"
            ]
          },
          "metadata": {},
          "execution_count": 125
        }
      ]
    },
    {
      "cell_type": "code",
      "source": [
        "C[C['MSE'] < menor['MSE']]"
      ],
      "metadata": {
        "colab": {
          "base_uri": "https://localhost:8080/",
          "height": 53
        },
        "id": "MjmpFO5M7wxQ",
        "outputId": "9087afdc-959f-40e3-90a7-e12304a2c524"
      },
      "execution_count": null,
      "outputs": [
        {
          "output_type": "execute_result",
          "data": {
            "text/plain": [
              "Empty DataFrame\n",
              "Columns: [RUN, Output, Dataset, MAPE, R$^2$, MSE, RMSE, MAE, Parameters, Estimator, Y_PRED, Y_TRUE]\n",
              "Index: []"
            ],
            "text/html": [
              "\n",
              "  <div id=\"df-5efc2d19-b267-4add-a818-fe0026a6f05d\" class=\"colab-df-container\">\n",
              "    <div>\n",
              "<style scoped>\n",
              "    .dataframe tbody tr th:only-of-type {\n",
              "        vertical-align: middle;\n",
              "    }\n",
              "\n",
              "    .dataframe tbody tr th {\n",
              "        vertical-align: top;\n",
              "    }\n",
              "\n",
              "    .dataframe thead th {\n",
              "        text-align: right;\n",
              "    }\n",
              "</style>\n",
              "<table border=\"1\" class=\"dataframe\">\n",
              "  <thead>\n",
              "    <tr style=\"text-align: right;\">\n",
              "      <th></th>\n",
              "      <th>RUN</th>\n",
              "      <th>Output</th>\n",
              "      <th>Dataset</th>\n",
              "      <th>MAPE</th>\n",
              "      <th>R$^2$</th>\n",
              "      <th>MSE</th>\n",
              "      <th>RMSE</th>\n",
              "      <th>MAE</th>\n",
              "      <th>Parameters</th>\n",
              "      <th>Estimator</th>\n",
              "      <th>Y_PRED</th>\n",
              "      <th>Y_TRUE</th>\n",
              "    </tr>\n",
              "  </thead>\n",
              "  <tbody>\n",
              "  </tbody>\n",
              "</table>\n",
              "</div>\n",
              "    <div class=\"colab-df-buttons\">\n",
              "\n",
              "  <div class=\"colab-df-container\">\n",
              "    <button class=\"colab-df-convert\" onclick=\"convertToInteractive('df-5efc2d19-b267-4add-a818-fe0026a6f05d')\"\n",
              "            title=\"Convert this dataframe to an interactive table.\"\n",
              "            style=\"display:none;\">\n",
              "\n",
              "  <svg xmlns=\"http://www.w3.org/2000/svg\" height=\"24px\" viewBox=\"0 -960 960 960\">\n",
              "    <path d=\"M120-120v-720h720v720H120Zm60-500h600v-160H180v160Zm220 220h160v-160H400v160Zm0 220h160v-160H400v160ZM180-400h160v-160H180v160Zm440 0h160v-160H620v160ZM180-180h160v-160H180v160Zm440 0h160v-160H620v160Z\"/>\n",
              "  </svg>\n",
              "    </button>\n",
              "\n",
              "  <style>\n",
              "    .colab-df-container {\n",
              "      display:flex;\n",
              "      gap: 12px;\n",
              "    }\n",
              "\n",
              "    .colab-df-convert {\n",
              "      background-color: #E8F0FE;\n",
              "      border: none;\n",
              "      border-radius: 50%;\n",
              "      cursor: pointer;\n",
              "      display: none;\n",
              "      fill: #1967D2;\n",
              "      height: 32px;\n",
              "      padding: 0 0 0 0;\n",
              "      width: 32px;\n",
              "    }\n",
              "\n",
              "    .colab-df-convert:hover {\n",
              "      background-color: #E2EBFA;\n",
              "      box-shadow: 0px 1px 2px rgba(60, 64, 67, 0.3), 0px 1px 3px 1px rgba(60, 64, 67, 0.15);\n",
              "      fill: #174EA6;\n",
              "    }\n",
              "\n",
              "    .colab-df-buttons div {\n",
              "      margin-bottom: 4px;\n",
              "    }\n",
              "\n",
              "    [theme=dark] .colab-df-convert {\n",
              "      background-color: #3B4455;\n",
              "      fill: #D2E3FC;\n",
              "    }\n",
              "\n",
              "    [theme=dark] .colab-df-convert:hover {\n",
              "      background-color: #434B5C;\n",
              "      box-shadow: 0px 1px 3px 1px rgba(0, 0, 0, 0.15);\n",
              "      filter: drop-shadow(0px 1px 2px rgba(0, 0, 0, 0.3));\n",
              "      fill: #FFFFFF;\n",
              "    }\n",
              "  </style>\n",
              "\n",
              "    <script>\n",
              "      const buttonEl =\n",
              "        document.querySelector('#df-5efc2d19-b267-4add-a818-fe0026a6f05d button.colab-df-convert');\n",
              "      buttonEl.style.display =\n",
              "        google.colab.kernel.accessAllowed ? 'block' : 'none';\n",
              "\n",
              "      async function convertToInteractive(key) {\n",
              "        const element = document.querySelector('#df-5efc2d19-b267-4add-a818-fe0026a6f05d');\n",
              "        const dataTable =\n",
              "          await google.colab.kernel.invokeFunction('convertToInteractive',\n",
              "                                                    [key], {});\n",
              "        if (!dataTable) return;\n",
              "\n",
              "        const docLinkHtml = 'Like what you see? Visit the ' +\n",
              "          '<a target=\"_blank\" href=https://colab.research.google.com/notebooks/data_table.ipynb>data table notebook</a>'\n",
              "          + ' to learn more about interactive tables.';\n",
              "        element.innerHTML = '';\n",
              "        dataTable['output_type'] = 'display_data';\n",
              "        await google.colab.output.renderOutput(dataTable, element);\n",
              "        const docLink = document.createElement('div');\n",
              "        docLink.innerHTML = docLinkHtml;\n",
              "        element.appendChild(docLink);\n",
              "      }\n",
              "    </script>\n",
              "  </div>\n",
              "\n",
              "    </div>\n",
              "  </div>\n"
            ],
            "application/vnd.google.colaboratory.intrinsic+json": {
              "type": "dataframe",
              "repr_error": "Out of range float values are not JSON compliant: nan"
            }
          },
          "metadata": {},
          "execution_count": 133
        }
      ]
    },
    {
      "cell_type": "code",
      "source": [
        "C[C['R$^2$'] < menor['R$^2$']].index"
      ],
      "metadata": {
        "colab": {
          "base_uri": "https://localhost:8080/"
        },
        "id": "Nn_cGciy81vO",
        "outputId": "9a7e95a5-a89e-4ff0-ed34-71eb7d7a4b0d"
      },
      "execution_count": null,
      "outputs": [
        {
          "output_type": "execute_result",
          "data": {
            "text/plain": [
              "Index([  10,   11,   16,   25,   38,   55,  169,  186,  207,  232,  261,  424,\n",
              "        446,  450,  458,  470,  486,  630,  650,  674,  702,  734,  910,  912,\n",
              "        918,  928,  942, 1064, 1082, 1104, 1130, 1160, 1330, 1352, 1355, 1362,\n",
              "       1373, 1388, 1521, 1540, 1563, 1590, 1621],\n",
              "      dtype='int64')"
            ]
          },
          "metadata": {},
          "execution_count": 143
        }
      ]
    },
    {
      "cell_type": "code",
      "source": [
        "C[C['RMSE'] > maior['RMSE']].index"
      ],
      "metadata": {
        "colab": {
          "base_uri": "https://localhost:8080/"
        },
        "id": "CPC49DLE84P1",
        "outputId": "3b81222c-4e62-4257-88c6-13c28c941a87"
      },
      "execution_count": null,
      "outputs": [
        {
          "output_type": "execute_result",
          "data": {
            "text/plain": [
              "Index([  10,   11,   16,   25,   38,   55,  169,  186,  207,  232,  261,  424,\n",
              "        446,  450,  458,  470,  486,  630,  650,  674,  702,  734,  910,  912,\n",
              "        918,  928,  942, 1064, 1082, 1104, 1130, 1160, 1330, 1352, 1355, 1362,\n",
              "       1373, 1388, 1521, 1540, 1563, 1590, 1621],\n",
              "      dtype='int64')"
            ]
          },
          "metadata": {},
          "execution_count": 141
        }
      ]
    },
    {
      "cell_type": "code",
      "source": [
        "C[C['MSE'] > maior['MSE']].index"
      ],
      "metadata": {
        "colab": {
          "base_uri": "https://localhost:8080/"
        },
        "id": "BaO6qak69Iwp",
        "outputId": "81d65886-eb11-401d-c22e-86b738729c98"
      },
      "execution_count": null,
      "outputs": [
        {
          "output_type": "execute_result",
          "data": {
            "text/plain": [
              "Index([  10,   11,   16,   25,   38,   55,  169,  186,  207,  232,  261,  424,\n",
              "        446,  450,  458,  470,  486,  630,  650,  674,  702,  734,  910,  912,\n",
              "        918,  928,  942, 1064, 1082, 1104, 1130, 1160, 1330, 1352, 1355, 1362,\n",
              "       1373, 1388, 1521, 1540, 1563, 1590, 1621],\n",
              "      dtype='int64')"
            ]
          },
          "metadata": {},
          "execution_count": 142
        }
      ]
    },
    {
      "cell_type": "code",
      "source": [
        "C[C['R$^2$'] > maior[ 'R$^2$']]"
      ],
      "metadata": {
        "colab": {
          "base_uri": "https://localhost:8080/",
          "height": 53
        },
        "id": "oB2078oA9MHM",
        "outputId": "22fb0cdb-a5d1-4151-d5f6-ade5d5e5ef4a"
      },
      "execution_count": null,
      "outputs": [
        {
          "output_type": "execute_result",
          "data": {
            "text/plain": [
              "Empty DataFrame\n",
              "Columns: [RUN, Output, Dataset, MAPE, R$^2$, MSE, RMSE, MAE, Parameters, Estimator, Y_PRED, Y_TRUE]\n",
              "Index: []"
            ],
            "text/html": [
              "\n",
              "  <div id=\"df-0d3c67f0-7a0d-48fa-8897-e2f8f4564b45\" class=\"colab-df-container\">\n",
              "    <div>\n",
              "<style scoped>\n",
              "    .dataframe tbody tr th:only-of-type {\n",
              "        vertical-align: middle;\n",
              "    }\n",
              "\n",
              "    .dataframe tbody tr th {\n",
              "        vertical-align: top;\n",
              "    }\n",
              "\n",
              "    .dataframe thead th {\n",
              "        text-align: right;\n",
              "    }\n",
              "</style>\n",
              "<table border=\"1\" class=\"dataframe\">\n",
              "  <thead>\n",
              "    <tr style=\"text-align: right;\">\n",
              "      <th></th>\n",
              "      <th>RUN</th>\n",
              "      <th>Output</th>\n",
              "      <th>Dataset</th>\n",
              "      <th>MAPE</th>\n",
              "      <th>R$^2$</th>\n",
              "      <th>MSE</th>\n",
              "      <th>RMSE</th>\n",
              "      <th>MAE</th>\n",
              "      <th>Parameters</th>\n",
              "      <th>Estimator</th>\n",
              "      <th>Y_PRED</th>\n",
              "      <th>Y_TRUE</th>\n",
              "    </tr>\n",
              "  </thead>\n",
              "  <tbody>\n",
              "  </tbody>\n",
              "</table>\n",
              "</div>\n",
              "    <div class=\"colab-df-buttons\">\n",
              "\n",
              "  <div class=\"colab-df-container\">\n",
              "    <button class=\"colab-df-convert\" onclick=\"convertToInteractive('df-0d3c67f0-7a0d-48fa-8897-e2f8f4564b45')\"\n",
              "            title=\"Convert this dataframe to an interactive table.\"\n",
              "            style=\"display:none;\">\n",
              "\n",
              "  <svg xmlns=\"http://www.w3.org/2000/svg\" height=\"24px\" viewBox=\"0 -960 960 960\">\n",
              "    <path d=\"M120-120v-720h720v720H120Zm60-500h600v-160H180v160Zm220 220h160v-160H400v160Zm0 220h160v-160H400v160ZM180-400h160v-160H180v160Zm440 0h160v-160H620v160ZM180-180h160v-160H180v160Zm440 0h160v-160H620v160Z\"/>\n",
              "  </svg>\n",
              "    </button>\n",
              "\n",
              "  <style>\n",
              "    .colab-df-container {\n",
              "      display:flex;\n",
              "      gap: 12px;\n",
              "    }\n",
              "\n",
              "    .colab-df-convert {\n",
              "      background-color: #E8F0FE;\n",
              "      border: none;\n",
              "      border-radius: 50%;\n",
              "      cursor: pointer;\n",
              "      display: none;\n",
              "      fill: #1967D2;\n",
              "      height: 32px;\n",
              "      padding: 0 0 0 0;\n",
              "      width: 32px;\n",
              "    }\n",
              "\n",
              "    .colab-df-convert:hover {\n",
              "      background-color: #E2EBFA;\n",
              "      box-shadow: 0px 1px 2px rgba(60, 64, 67, 0.3), 0px 1px 3px 1px rgba(60, 64, 67, 0.15);\n",
              "      fill: #174EA6;\n",
              "    }\n",
              "\n",
              "    .colab-df-buttons div {\n",
              "      margin-bottom: 4px;\n",
              "    }\n",
              "\n",
              "    [theme=dark] .colab-df-convert {\n",
              "      background-color: #3B4455;\n",
              "      fill: #D2E3FC;\n",
              "    }\n",
              "\n",
              "    [theme=dark] .colab-df-convert:hover {\n",
              "      background-color: #434B5C;\n",
              "      box-shadow: 0px 1px 3px 1px rgba(0, 0, 0, 0.15);\n",
              "      filter: drop-shadow(0px 1px 2px rgba(0, 0, 0, 0.3));\n",
              "      fill: #FFFFFF;\n",
              "    }\n",
              "  </style>\n",
              "\n",
              "    <script>\n",
              "      const buttonEl =\n",
              "        document.querySelector('#df-0d3c67f0-7a0d-48fa-8897-e2f8f4564b45 button.colab-df-convert');\n",
              "      buttonEl.style.display =\n",
              "        google.colab.kernel.accessAllowed ? 'block' : 'none';\n",
              "\n",
              "      async function convertToInteractive(key) {\n",
              "        const element = document.querySelector('#df-0d3c67f0-7a0d-48fa-8897-e2f8f4564b45');\n",
              "        const dataTable =\n",
              "          await google.colab.kernel.invokeFunction('convertToInteractive',\n",
              "                                                    [key], {});\n",
              "        if (!dataTable) return;\n",
              "\n",
              "        const docLinkHtml = 'Like what you see? Visit the ' +\n",
              "          '<a target=\"_blank\" href=https://colab.research.google.com/notebooks/data_table.ipynb>data table notebook</a>'\n",
              "          + ' to learn more about interactive tables.';\n",
              "        element.innerHTML = '';\n",
              "        dataTable['output_type'] = 'display_data';\n",
              "        await google.colab.output.renderOutput(dataTable, element);\n",
              "        const docLink = document.createElement('div');\n",
              "        docLink.innerHTML = docLinkHtml;\n",
              "        element.appendChild(docLink);\n",
              "      }\n",
              "    </script>\n",
              "  </div>\n",
              "\n",
              "    </div>\n",
              "  </div>\n"
            ],
            "application/vnd.google.colaboratory.intrinsic+json": {
              "type": "dataframe",
              "repr_error": "Out of range float values are not JSON compliant: nan"
            }
          },
          "metadata": {},
          "execution_count": 138
        }
      ]
    },
    {
      "cell_type": "code",
      "source": [
        "C=C.drop(index=[10,   11,   16,   25,   38,   55,  169,  186,  207,  232,  261,  424,\n",
        "        446,  450,  458,  470,  486,  630,  650,  674,  702,  734,  910,  912,\n",
        "        918,  928,  942, 1064, 1082, 1104, 1130, 1160, 1330, 1352, 1355, 1362,\n",
        "       1373, 1388, 1521, 1540, 1563, 1590, 1621])"
      ],
      "metadata": {
        "id": "jaJq85mb9a5D"
      },
      "execution_count": null,
      "outputs": []
    },
    {
      "cell_type": "code",
      "execution_count": null,
      "metadata": {
        "id": "wZkWs7e_06xJ",
        "outputId": "ab8d56a6-9619-4c4c-c087-a5326cf325c0",
        "colab": {
          "base_uri": "https://localhost:8080/",
          "height": 1000
        }
      },
      "outputs": [
        {
          "output_type": "stream",
          "name": "stderr",
          "text": [
            "<ipython-input-14-b44c46913395>:2: FutureWarning: \n",
            "\n",
            "Passing `palette` without assigning `hue` is deprecated and will be removed in v0.14.0. Assign the `x` variable to `hue` and set `legend=False` for the same effect.\n",
            "\n",
            "  g=sns.catplot(y=f, data=C, x='Estimator', kind='box',\n",
            "<ipython-input-14-b44c46913395>:2: FutureWarning: \n",
            "\n",
            "Passing `palette` without assigning `hue` is deprecated and will be removed in v0.14.0. Assign the `x` variable to `hue` and set `legend=False` for the same effect.\n",
            "\n",
            "  g=sns.catplot(y=f, data=C, x='Estimator', kind='box',\n",
            "<ipython-input-14-b44c46913395>:2: FutureWarning: \n",
            "\n",
            "Passing `palette` without assigning `hue` is deprecated and will be removed in v0.14.0. Assign the `x` variable to `hue` and set `legend=False` for the same effect.\n",
            "\n",
            "  g=sns.catplot(y=f, data=C, x='Estimator', kind='box',\n",
            "<ipython-input-14-b44c46913395>:2: FutureWarning: \n",
            "\n",
            "Passing `palette` without assigning `hue` is deprecated and will be removed in v0.14.0. Assign the `x` variable to `hue` and set `legend=False` for the same effect.\n",
            "\n",
            "  g=sns.catplot(y=f, data=C, x='Estimator', kind='box',\n",
            "<ipython-input-14-b44c46913395>:2: FutureWarning: \n",
            "\n",
            "Passing `palette` without assigning `hue` is deprecated and will be removed in v0.14.0. Assign the `x` variable to `hue` and set `legend=False` for the same effect.\n",
            "\n",
            "  g=sns.catplot(y=f, data=C, x='Estimator', kind='box',\n"
          ]
        },
        {
          "output_type": "display_data",
          "data": {
            "text/plain": [
              "<Figure size 500x500 with 1 Axes>"
            ],
            "image/png": "[encoded data removed]"
          },
          "metadata": {}
        },
        {
          "output_type": "display_data",
          "data": {
            "text/plain": [
              "<Figure size 500x500 with 1 Axes>"
            ],
            "image/png": "[encoded data removed]"
          },
          "metadata": {}
        },
        {
          "output_type": "display_data",
          "data": {
            "text/plain": [
              "<Figure size 500x500 with 1 Axes>"
            ],
            "image/png": "[encoded data removed]"
          },
          "metadata": {}
        },
        {
          "output_type": "display_data",
          "data": {
            "text/plain": [
              "<Figure size 500x500 with 1 Axes>"
            ],
            "image/png": "[encoded data removed]"
          },
          "metadata": {}
        },
        {
          "output_type": "display_data",
          "data": {
            "text/plain": [
              "<Figure size 500x500 with 1 Axes>"
            ],
            "image/png": "[encoded data removed]"
          },
          "metadata": {}
        }
      ],
      "source": [
        "for f in metrics:\n",
        "  g=sns.catplot(y=f, data=C, x='Estimator', kind='box',\n",
        "                   col='Dataset',\n",
        "                   notch=0, sharey=False,palette=\"Blues\")\n",
        "  #fn = basename+'_'+f+'_both_boxplot'+'.png'\n",
        "  #g.savefig(re.sub('\\^','', re.sub('\\$','',fn) ), dpi=650,bbox_inches='tight')\n",
        "  pl.grid()\n",
        "  #pl.show()"
      ]
    },
    {
      "cell_type": "code",
      "source": [
        "from scipy.stats import wilcoxon"
      ],
      "metadata": {
        "id": "0xWC69FQ1lzL"
      },
      "execution_count": null,
      "outputs": []
    },
    {
      "cell_type": "code",
      "source": [
        "np.unique(C[C['Estimator']=='KNN']['RMSE'].values).shape"
      ],
      "metadata": {
        "colab": {
          "base_uri": "https://localhost:8080/"
        },
        "id": "H98Y8FK-2Dtc",
        "outputId": "7d06934b-6981-4f84-8525-9d1ffd772e99"
      },
      "execution_count": null,
      "outputs": [
        {
          "output_type": "execute_result",
          "data": {
            "text/plain": [
              "(30,)"
            ]
          },
          "metadata": {},
          "execution_count": 28
        }
      ]
    },
    {
      "cell_type": "code",
      "source": [
        "for i in ['ELM','KNN','SVR']:\n",
        "  res= wilcoxon(np.unique(C[C['Estimator']=='RF']['R$^2$'].values),np.unique(C[C['Estimator']==i]['R$^2$'].values)[0:30])\n",
        "  print(i,res.statistic, res.pvalue,'\\n')"
      ],
      "metadata": {
        "colab": {
          "base_uri": "https://localhost:8080/"
        },
        "id": "NLJghd4I1K10",
        "outputId": "00c34277-b81b-46c7-d119-4038ad0a853c"
      },
      "execution_count": null,
      "outputs": [
        {
          "output_type": "stream",
          "name": "stdout",
          "text": [
            "ELM 0.0 1.862645149230957e-09 \n",
            "\n",
            "KNN 0.0 1.862645149230957e-09 \n",
            "\n",
            "SVR 0.0 1.862645149230957e-09 \n",
            "\n"
          ]
        }
      ]
    },
    {
      "cell_type": "code",
      "source": [
        "import seaborn as sns"
      ],
      "metadata": {
        "id": "-T6Pdisd32dC"
      },
      "execution_count": null,
      "outputs": []
    },
    {
      "cell_type": "code",
      "source": [
        "#%%\n",
        "parameters=pd.DataFrame()\n",
        "for (d,e,o), df in C[0:124].groupby(['Dataset','Estimator','Output']):\n",
        "  #if e!= ref_estimator:\n",
        "    print (d+'\\t\\t'+e+'\\t'+str(len(df)))\n",
        "    aux={}\n",
        "    par = pd.DataFrame(list(df['Parameters']))\n",
        "    if e=='RBFNN':\n",
        "        #par['hidden_layer_sizes']=[len(j) for j in par['hidden_layer_sizes']]\n",
        "        _t=['func',]\n",
        "        for t in _t:\n",
        "            par[t] = [replace_names(i) for i in par[t].values]\n",
        "\n",
        "        #print(par); print('\\n\\n\\n\\n\\n')\n",
        "\n",
        "    if e=='MLP':\n",
        "        par['hidden_layer_sizes']=[len(j) for j in par['hidden_layer_sizes']]\n",
        "        _t=['activation',]\n",
        "        for t in _t:\n",
        "            par[t] = [replace_names(i) for i in par[t].values]\n",
        "\n",
        "    if  e=='ELM':\n",
        "        #par.drop(['regressor'], axis=1, inplace=True)\n",
        "        _t=['ufunc',]\n",
        "        for t in _t:\n",
        "            par[t] = [replace_names(i) for i in par[t].values]\n",
        "\n",
        "    if  e=='SVR' or e=='SVR-L':\n",
        "        _t=['loss',]\n",
        "        #for t in _t:\n",
        "            #par[t] = [replace_names(i) for i in par[t].values]\n",
        "\n",
        "    if  e=='XGB':\n",
        "        #par.drop(['objective'], axis=1, inplace=True)\n",
        "        print(par)\n",
        "\n",
        "    if  e=='SVR' or e=='SVR-FS':\n",
        "        par['gamma'] = [0 if a=='scale' else a for a in par['gamma']]\n",
        "        print(par)\n",
        "        #sys.exit()\n",
        "\n",
        "    if  e=='GPR' or e=='GPR-FS':\n",
        "        par['$\\\\nu$'] = [float(str(a).split('nu=')[1].split(')')[0]) for a in par['kernel']]\n",
        "        par['$l$'] = [float(str(a).split('length_scale=')[1].split(', nu')[0]) for a in par['kernel']]\n",
        "        par.drop(labels=['kernel'], axis=1, inplace=True)\n",
        "        print(par)\n",
        "        #sys.exit()\n",
        "\n",
        "    par=par.melt()\n",
        "    par['Estimator']=e\n",
        "    par['Dataset']=d\n",
        "    par['Output']=o\n",
        "    par['variable'] = [replace_names(i) for i in par['variable'].values]\n",
        "\n",
        "    parameters = pd.concat([parameters,par], sort=True)\n",
        "\n",
        "parameters['Parameter']=parameters['variable']\n",
        "parameters=parameters[parameters['Parameter']!='regressor']"
      ],
      "metadata": {
        "id": "AtsCNOQo348w",
        "colab": {
          "base_uri": "https://localhost:8080/"
        },
        "outputId": "ed34f89f-fa28-4b69-fde1-5d71f7f9ed74"
      },
      "execution_count": null,
      "outputs": [
        {
          "output_type": "stream",
          "name": "stdout",
          "text": [
            "farmacos\t\tELM\t34\n",
            "farmacos\t\tKNN\t30\n",
            "farmacos\t\tRF\t30\n",
            "farmacos\t\tSVR\t30\n",
            "      C  gamma\n",
            "0     1 1.0000\n",
            "1     1 1.0000\n",
            "2     1 1.0000\n",
            "3    10 1.0000\n",
            "4     1 1.0000\n",
            "5     1 1.0000\n",
            "6   100 0.1000\n",
            "7     1 1.0000\n",
            "8     1 1.0000\n",
            "9   100 0.1000\n",
            "10    1 1.0000\n",
            "11    1 1.0000\n",
            "12    1 1.0000\n",
            "13   10 1.0000\n",
            "14    1 1.0000\n",
            "15    1 1.0000\n",
            "16  100 0.1000\n",
            "17    1 1.0000\n",
            "18    1 1.0000\n",
            "19  100 0.1000\n",
            "20   10 1.0000\n",
            "21    1 1.0000\n",
            "22    1 1.0000\n",
            "23    1 1.0000\n",
            "24   10 1.0000\n",
            "25    1 1.0000\n",
            "26    1 1.0000\n",
            "27  100 0.1000\n",
            "28    1 1.0000\n",
            "29    1 1.0000\n"
          ]
        }
      ]
    },
    {
      "cell_type": "code",
      "source": [
        "for (e,t,d), df in parameters.groupby(['Estimator', 'Parameter','Dataset']):\n",
        "    print ('='*80+'\\n'+t+' - '+e+' - '+str(d)+'\\n'+'='*80+'\\n')\n",
        "    pl.figure()\n",
        "    if df['value'].unique().shape[0]<= 10:\n",
        "        df['value']=df['value'].astype(int,errors='ignore',)\n",
        "        kwargs={\"linewidth\": 1, 'edgecolor':None,}\n",
        "        g = sns.catplot(x='value', col='Output', kind='count', data=df,\n",
        "                                                col_wrap=4,\n",
        "                        aspect=0.618, palette=\"Set1\", **kwargs)\n",
        "        fmtx='%3d'\n",
        "        g.set_ylabels('Frequency')#(e+': Parameter '+t)\n",
        "        g.fig.tight_layout()\n",
        "\n",
        "        for ax in g.axes.ravel():\n",
        "            ax.axes.set_xlabel(e+': Parameter '+t)\n",
        "            ax.set_xticklabels(labels=ax.get_xticklabels(),rotation=0, fontsize=10,)\n",
        "            ax.set_ylim([0, 1.05*ax.get_ylim()[1]])\n",
        "            ylabels = ['%3d'% x for x  in ax.get_yticks()]\n",
        "            ax.set_yticklabels(ylabels,)# fontsize=16,)\n",
        "            ax.set_xlabel(e+': '+t, )#fontsize=16,)\n",
        "\n",
        "            #ax.set_xlabel('Day'); #ax.set_ylabel(m);\n",
        "\n",
        "        for ax in g.axes.ravel():\n",
        "            _h=[]\n",
        "            for pat in ax.patches:\n",
        "                _h.append(pat.get_height())\n",
        "\n",
        "            _h=np.array(_h)\n",
        "            _h=_h[~np.isnan(_h)]\n",
        "            _h_max = np.max(_h)\n",
        "            for pat in ax.patches:\n",
        "                _h= 0 if np.isnan(pat.get_height()) else pat.get_height()\n",
        "                pat.set_height(_h)\n",
        "                ax.text(\n",
        "                        x=pat.get_x() + pat.get_width()/2.,\n",
        "                        #y=1.04*p.get_height(),\n",
        "                        y=0.05*_h_max+pat.get_height(),\n",
        "                        s=fmtx % pat.get_height(),\n",
        "                        #fontsize=16,\n",
        "                        color='black', ha='center',\n",
        "                        va='bottom', rotation=0, weight='bold',\n",
        "                       )\n",
        "        #pl.legend( loc=10, borderaxespad=0., fontsize=16, )\n",
        "        #pl.show()\n",
        "    else:\n",
        "        df['value']=df['value'].astype(float,errors='ignore',)\n",
        "        kwargs={\"linewidth\": 1, 'aspect':0.4618,  'notch':1}\n",
        "        #g = sns.catplot(x='value', y='Output', kind='box', data=df,  orient='h', palette=palette_color, **kwargs, )\n",
        "        #xmin, xmax = g.ax.get_xlim()\n",
        "        #g.ax.set_xlim(left=0, right=xmax)\n",
        "        g = sns.catplot(y='value', x='Output', kind='box', data=df,  orient='v', palette=\"Set1\", **kwargs, )\n",
        "        #g.ax.set_xlabel(d+' -- '+e+': Parameter '+t, fontsize=16,)\n",
        "        g.ax.set_xlabel(e+':'+t, )#fontsize=16,)\n",
        "        g.ax.set_ylabel(d, rotation=90)\n",
        "        g.ax.set_ylabel(None)#fontsize=16,)\n",
        "        g.fig.tight_layout()\n",
        "        #g.fig.set_figheight(4.00)\n",
        "        #pl.xticks(rotation=45)\n",
        "        #g.ax.set_ylabel(e+': Parameter '+t)\n",
        "    fn = basename+'300dpi_comparison_datasets'+'_parameters_'+'__'+e+'__'+t+'__'+'.png'\n",
        "    fn = re.sub('\\^','', re.sub('\\$','',fn))\n",
        "    fn = re.sub('\\(','', re.sub('\\)','',fn))\n",
        "    fn = re.sub(' ','_', re.sub('\\/','',fn))\n",
        "    fn = re.sub('\\\\\\\\','', re.sub('x.','x',fn))\n",
        "    fn = re.sub('-','_', re.sub('\\/','',fn)).lower()\n",
        "    fn = fn.lower()\n",
        "    #print(fn)\n",
        "    pl.savefig(fn, transparent=True,\n",
        "               bbox_inches='tight',\n",
        "               dpi=300)"
      ],
      "metadata": {
        "colab": {
          "base_uri": "https://localhost:8080/",
          "height": 1000
        },
        "id": "GUoKG1jKm40R",
        "outputId": "c2e44bb3-bfff-4bdb-8af1-adab3574944f"
      },
      "execution_count": null,
      "outputs": [
        {
          "output_type": "stream",
          "name": "stdout",
          "text": [
            "================================================================================\n",
            "n_neurons - ELM - farmacos\n",
            "================================================================================\n",
            "\n"
          ]
        },
        {
          "output_type": "stream",
          "name": "stderr",
          "text": [
            "<ipython-input-34-36ea0dec6d19>:7: FutureWarning: \n",
            "\n",
            "Passing `palette` without assigning `hue` is deprecated and will be removed in v0.14.0. Assign the `x` variable to `hue` and set `legend=False` for the same effect.\n",
            "\n",
            "  g = sns.catplot(x='value', col='Output', kind='count', data=df,\n",
            "<ipython-input-34-36ea0dec6d19>:16: UserWarning: FixedFormatter should only be used together with FixedLocator\n",
            "  ax.set_xticklabels(labels=ax.get_xticklabels(),rotation=0, fontsize=10,)\n",
            "<ipython-input-34-36ea0dec6d19>:19: UserWarning: FixedFormatter should only be used together with FixedLocator\n",
            "  ax.set_yticklabels(ylabels,)# fontsize=16,)\n"
          ]
        },
        {
          "output_type": "stream",
          "name": "stdout",
          "text": [
            "================================================================================\n",
            "ufunc - ELM - farmacos\n",
            "================================================================================\n",
            "\n"
          ]
        },
        {
          "output_type": "stream",
          "name": "stderr",
          "text": [
            "<ipython-input-34-36ea0dec6d19>:7: FutureWarning: \n",
            "\n",
            "Passing `palette` without assigning `hue` is deprecated and will be removed in v0.14.0. Assign the `x` variable to `hue` and set `legend=False` for the same effect.\n",
            "\n",
            "  g = sns.catplot(x='value', col='Output', kind='count', data=df,\n",
            "<ipython-input-34-36ea0dec6d19>:16: UserWarning: FixedFormatter should only be used together with FixedLocator\n",
            "  ax.set_xticklabels(labels=ax.get_xticklabels(),rotation=0, fontsize=10,)\n",
            "<ipython-input-34-36ea0dec6d19>:19: UserWarning: FixedFormatter should only be used together with FixedLocator\n",
            "  ax.set_yticklabels(ylabels,)# fontsize=16,)\n"
          ]
        },
        {
          "output_type": "stream",
          "name": "stdout",
          "text": [
            "================================================================================\n",
            "$K$ - KNN - farmacos\n",
            "================================================================================\n",
            "\n"
          ]
        },
        {
          "output_type": "stream",
          "name": "stderr",
          "text": [
            "<ipython-input-34-36ea0dec6d19>:7: FutureWarning: \n",
            "\n",
            "Passing `palette` without assigning `hue` is deprecated and will be removed in v0.14.0. Assign the `x` variable to `hue` and set `legend=False` for the same effect.\n",
            "\n",
            "  g = sns.catplot(x='value', col='Output', kind='count', data=df,\n",
            "<ipython-input-34-36ea0dec6d19>:16: UserWarning: FixedFormatter should only be used together with FixedLocator\n",
            "  ax.set_xticklabels(labels=ax.get_xticklabels(),rotation=0, fontsize=10,)\n",
            "<ipython-input-34-36ea0dec6d19>:19: UserWarning: FixedFormatter should only be used together with FixedLocator\n",
            "  ax.set_yticklabels(ylabels,)# fontsize=16,)\n"
          ]
        },
        {
          "output_type": "stream",
          "name": "stdout",
          "text": [
            "================================================================================\n",
            "Max. Depth - RF - farmacos\n",
            "================================================================================\n",
            "\n"
          ]
        },
        {
          "output_type": "stream",
          "name": "stderr",
          "text": [
            "<ipython-input-34-36ea0dec6d19>:7: FutureWarning: \n",
            "\n",
            "Passing `palette` without assigning `hue` is deprecated and will be removed in v0.14.0. Assign the `x` variable to `hue` and set `legend=False` for the same effect.\n",
            "\n",
            "  g = sns.catplot(x='value', col='Output', kind='count', data=df,\n",
            "<ipython-input-34-36ea0dec6d19>:16: UserWarning: FixedFormatter should only be used together with FixedLocator\n",
            "  ax.set_xticklabels(labels=ax.get_xticklabels(),rotation=0, fontsize=10,)\n",
            "<ipython-input-34-36ea0dec6d19>:19: UserWarning: FixedFormatter should only be used together with FixedLocator\n",
            "  ax.set_yticklabels(ylabels,)# fontsize=16,)\n"
          ]
        },
        {
          "output_type": "stream",
          "name": "stdout",
          "text": [
            "================================================================================\n",
            "Min. Samples Leaf - RF - farmacos\n",
            "================================================================================\n",
            "\n"
          ]
        },
        {
          "output_type": "stream",
          "name": "stderr",
          "text": [
            "<ipython-input-34-36ea0dec6d19>:7: FutureWarning: \n",
            "\n",
            "Passing `palette` without assigning `hue` is deprecated and will be removed in v0.14.0. Assign the `x` variable to `hue` and set `legend=False` for the same effect.\n",
            "\n",
            "  g = sns.catplot(x='value', col='Output', kind='count', data=df,\n",
            "<ipython-input-34-36ea0dec6d19>:16: UserWarning: FixedFormatter should only be used together with FixedLocator\n",
            "  ax.set_xticklabels(labels=ax.get_xticklabels(),rotation=0, fontsize=10,)\n",
            "<ipython-input-34-36ea0dec6d19>:19: UserWarning: FixedFormatter should only be used together with FixedLocator\n",
            "  ax.set_yticklabels(ylabels,)# fontsize=16,)\n"
          ]
        },
        {
          "output_type": "stream",
          "name": "stdout",
          "text": [
            "================================================================================\n",
            "Min. Samples Split - RF - farmacos\n",
            "================================================================================\n",
            "\n"
          ]
        },
        {
          "output_type": "stream",
          "name": "stderr",
          "text": [
            "<ipython-input-34-36ea0dec6d19>:7: FutureWarning: \n",
            "\n",
            "Passing `palette` without assigning `hue` is deprecated and will be removed in v0.14.0. Assign the `x` variable to `hue` and set `legend=False` for the same effect.\n",
            "\n",
            "  g = sns.catplot(x='value', col='Output', kind='count', data=df,\n",
            "<ipython-input-34-36ea0dec6d19>:16: UserWarning: FixedFormatter should only be used together with FixedLocator\n",
            "  ax.set_xticklabels(labels=ax.get_xticklabels(),rotation=0, fontsize=10,)\n",
            "<ipython-input-34-36ea0dec6d19>:19: UserWarning: FixedFormatter should only be used together with FixedLocator\n",
            "  ax.set_yticklabels(ylabels,)# fontsize=16,)\n"
          ]
        },
        {
          "output_type": "stream",
          "name": "stdout",
          "text": [
            "================================================================================\n",
            "No Estimators - RF - farmacos\n",
            "================================================================================\n",
            "\n"
          ]
        },
        {
          "output_type": "stream",
          "name": "stderr",
          "text": [
            "<ipython-input-34-36ea0dec6d19>:7: FutureWarning: \n",
            "\n",
            "Passing `palette` without assigning `hue` is deprecated and will be removed in v0.14.0. Assign the `x` variable to `hue` and set `legend=False` for the same effect.\n",
            "\n",
            "  g = sns.catplot(x='value', col='Output', kind='count', data=df,\n",
            "<ipython-input-34-36ea0dec6d19>:16: UserWarning: FixedFormatter should only be used together with FixedLocator\n",
            "  ax.set_xticklabels(labels=ax.get_xticklabels(),rotation=0, fontsize=10,)\n",
            "<ipython-input-34-36ea0dec6d19>:19: UserWarning: FixedFormatter should only be used together with FixedLocator\n",
            "  ax.set_yticklabels(ylabels,)# fontsize=16,)\n"
          ]
        },
        {
          "output_type": "stream",
          "name": "stdout",
          "text": [
            "================================================================================\n",
            "$C$ - SVR - farmacos\n",
            "================================================================================\n",
            "\n"
          ]
        },
        {
          "output_type": "stream",
          "name": "stderr",
          "text": [
            "<ipython-input-34-36ea0dec6d19>:7: FutureWarning: \n",
            "\n",
            "Passing `palette` without assigning `hue` is deprecated and will be removed in v0.14.0. Assign the `x` variable to `hue` and set `legend=False` for the same effect.\n",
            "\n",
            "  g = sns.catplot(x='value', col='Output', kind='count', data=df,\n",
            "<ipython-input-34-36ea0dec6d19>:16: UserWarning: FixedFormatter should only be used together with FixedLocator\n",
            "  ax.set_xticklabels(labels=ax.get_xticklabels(),rotation=0, fontsize=10,)\n",
            "<ipython-input-34-36ea0dec6d19>:19: UserWarning: FixedFormatter should only be used together with FixedLocator\n",
            "  ax.set_yticklabels(ylabels,)# fontsize=16,)\n"
          ]
        },
        {
          "output_type": "stream",
          "name": "stdout",
          "text": [
            "================================================================================\n",
            "$\\gamma$ - SVR - farmacos\n",
            "================================================================================\n",
            "\n"
          ]
        },
        {
          "output_type": "stream",
          "name": "stderr",
          "text": [
            "<ipython-input-34-36ea0dec6d19>:7: FutureWarning: \n",
            "\n",
            "Passing `palette` without assigning `hue` is deprecated and will be removed in v0.14.0. Assign the `x` variable to `hue` and set `legend=False` for the same effect.\n",
            "\n",
            "  g = sns.catplot(x='value', col='Output', kind='count', data=df,\n",
            "<ipython-input-34-36ea0dec6d19>:16: UserWarning: FixedFormatter should only be used together with FixedLocator\n",
            "  ax.set_xticklabels(labels=ax.get_xticklabels(),rotation=0, fontsize=10,)\n",
            "<ipython-input-34-36ea0dec6d19>:19: UserWarning: FixedFormatter should only be used together with FixedLocator\n",
            "  ax.set_yticklabels(ylabels,)# fontsize=16,)\n"
          ]
        },
        {
          "output_type": "display_data",
          "data": {
            "text/plain": [
              "<Figure size 640x480 with 0 Axes>"
            ]
          },
          "metadata": {}
        },
        {
          "output_type": "display_data",
          "data": {
            "text/plain": [
              "<Figure size 1236x500 with 1 Axes>"
            ],
            "image/png": "[encoded data removed]"
          },
          "metadata": {}
        },
        {
          "output_type": "display_data",
          "data": {
            "text/plain": [
              "<Figure size 640x480 with 0 Axes>"
            ]
          },
          "metadata": {}
        },
        {
          "output_type": "display_data",
          "data": {
            "text/plain": [
              "<Figure size 1236x500 with 1 Axes>"
            ],
            "image/png": "[encoded data removed]"
          },
          "metadata": {}
        },
        {
          "output_type": "display_data",
          "data": {
            "text/plain": [
              "<Figure size 640x480 with 0 Axes>"
            ]
          },
          "metadata": {}
        },
        {
          "output_type": "display_data",
          "data": {
            "text/plain": [
              "<Figure size 1236x500 with 1 Axes>"
            ],
            "image/png": "[encoded data removed]"
          },
          "metadata": {}
        },
        {
          "output_type": "display_data",
          "data": {
            "text/plain": [
              "<Figure size 640x480 with 0 Axes>"
            ]
          },
          "metadata": {}
        },
        {
          "output_type": "display_data",
          "data": {
            "text/plain": [
              "<Figure size 1236x500 with 1 Axes>"
            ],
            "image/png": "[encoded data removed]"
          },
          "metadata": {}
        },
        {
          "output_type": "display_data",
          "data": {
            "text/plain": [
              "<Figure size 640x480 with 0 Axes>"
            ]
          },
          "metadata": {}
        },
        {
          "output_type": "display_data",
          "data": {
            "text/plain": [
              "<Figure size 1236x500 with 1 Axes>"
            ],
            "image/png": "[encoded data removed]"
          },
          "metadata": {}
        },
        {
          "output_type": "display_data",
          "data": {
            "text/plain": [
              "<Figure size 640x480 with 0 Axes>"
            ]
          },
          "metadata": {}
        },
        {
          "output_type": "display_data",
          "data": {
            "text/plain": [
              "<Figure size 1236x500 with 1 Axes>"
            ],
            "image/png": "[encoded data removed]"
          },
          "metadata": {}
        },
        {
          "output_type": "display_data",
          "data": {
            "text/plain": [
              "<Figure size 640x480 with 0 Axes>"
            ]
          },
          "metadata": {}
        },
        {
          "output_type": "display_data",
          "data": {
            "text/plain": [
              "<Figure size 1236x500 with 1 Axes>"
            ],
            "image/png": "[encoded data removed]"
          },
          "metadata": {}
        },
        {
          "output_type": "display_data",
          "data": {
            "text/plain": [
              "<Figure size 640x480 with 0 Axes>"
            ]
          },
          "metadata": {}
        },
        {
          "output_type": "display_data",
          "data": {
            "text/plain": [
              "<Figure size 1236x500 with 1 Axes>"
            ],
            "image/png": "[encoded data removed]"
          },
          "metadata": {}
        },
        {
          "output_type": "display_data",
          "data": {
            "text/plain": [
              "<Figure size 640x480 with 0 Axes>"
            ]
          },
          "metadata": {}
        },
        {
          "output_type": "display_data",
          "data": {
            "text/plain": [
              "<Figure size 1236x500 with 1 Axes>"
            ],
            "image/png": "[encoded data removed]"
          },
          "metadata": {}
        }
      ]
    }
  ],
  "metadata": {
    "colab": {
      "provenance": []
    },
    "kernelspec": {
      "display_name": "Python 3 (ipykernel)",
      "language": "python",
      "name": "python3"
    },
    "language_info": {
      "codemirror_mode": {
        "name": "ipython",
        "version": 3
      },
      "file_extension": ".py",
      "mimetype": "text/x-python",
      "name": "python",
      "nbconvert_exporter": "python",
      "pygments_lexer": "ipython3",
      "version": "3.8.10"
    }
  },
  "nbformat": 4,
  "nbformat_minor": 0
}
